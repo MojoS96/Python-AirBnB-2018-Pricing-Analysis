{
 "cells": [
  {
   "cell_type": "markdown",
   "id": "a1b31648",
   "metadata": {},
   "source": [
    "# Achievement 6 - Relative Distance Calculation\n",
    "\n",
    "#### The Purpose of this exercise is to generate a value for listing distance to Amsterdam City Center. The reason for this because the only values we currently have relating to location are subjective user scores and catagorical neighbourhood values. Whilst these neighbourhood categories are great for plotting in a map and allow us to get a visual on the location relative to the rest of amsterdam, they don't allow us to perform any statistical tests on them.\n",
    "\n",
    "#### As a result, using the help of the Geopy Library and some Youtube tutorials (https://www.youtube.com/watch?v=fItaMyy7874&ab_channel=TheWhiz). This code should enable us to create a new variable to be added onto our main Dataset for us to use during the rest of our research.\n",
    "\n",
    "### Sections:\n",
    "\n",
    "- 1. Importing Libraries & Data\n",
    "- 2. Creating user-defined functions to calculate distance & append results onto main dataframe\n",
    "- 3. Results review\n",
    "- 4. Export"
   ]
  },
  {
   "cell_type": "markdown",
   "id": "030e2947",
   "metadata": {},
   "source": [
    "### Section 1:"
   ]
  },
  {
   "cell_type": "code",
   "execution_count": 1,
   "id": "6eb96cae",
   "metadata": {},
   "outputs": [],
   "source": [
    "import pandas as pd\n",
    "import numpy as np\n",
    "import seaborn as sns\n",
    "import matplotlib\n",
    "import matplotlib.pyplot as plt\n",
    "import os\n",
    "\n",
    "from geopy.geocoders import Nominatim\n",
    "import geopy.distance\n",
    "geolocator = Nominatim(user_agent='DistanceCalculator')\n",
    "path = r'C:\\Users\\mojos\\Documents\\Career Foundry Course\\Data Immersion\\Section 6\\AirBnB Data'\n",
    "df = pd.read_csv(os.path.join(path,'prepared','listings_sub1000.csv'),index_col = 0)"
   ]
  },
  {
   "cell_type": "code",
   "execution_count": 6,
   "id": "909d75d3",
   "metadata": {},
   "outputs": [
    {
     "data": {
      "text/plain": [
       "Index(['id', 'name', 'summary', 'host_id', 'host_is_superhost',\n",
       "       'neighbourhood_cleansed', 'latitude', 'longitude', 'property_type',\n",
       "       'room_type', 'accommodates', 'bedrooms', 'beds', 'bed_type',\n",
       "       'amenities', 'price', 'guests_included', 'minimum_nights',\n",
       "       'maximum_nights', 'availability_365', 'number_of_reviews',\n",
       "       'review_scores_rating', 'review_scores_location', 'review_scores_value',\n",
       "       'instant_bookable', 'reviews_per_month', 'rated', 'pricing_tier',\n",
       "       'group_size', 'groupsize_pricing_combined'],\n",
       "      dtype='object')"
      ]
     },
     "execution_count": 6,
     "metadata": {},
     "output_type": "execute_result"
    }
   ],
   "source": [
    "df.columns"
   ]
  },
  {
   "cell_type": "code",
   "execution_count": 7,
   "id": "cd03cfc6",
   "metadata": {},
   "outputs": [
    {
     "data": {
      "text/plain": [
       "2.5502782210274013"
      ]
     },
     "execution_count": 7,
     "metadata": {},
     "output_type": "execute_result"
    }
   ],
   "source": [
    "#Performing a test of geo.distance function in isolation referencing the first lat/long position of the DF\n",
    "coord1 = (52.365755, 4.941419) ## Value represents first row in DF\n",
    "coord2 = (52.3676, 4.9041) \n",
    "geopy.distance.geodesic(coord1, coord2).km"
   ]
  },
  {
   "cell_type": "markdown",
   "id": "ded09305",
   "metadata": {},
   "source": [
    "### Section 2"
   ]
  },
  {
   "cell_type": "code",
   "execution_count": 8,
   "id": "34320bea",
   "metadata": {},
   "outputs": [],
   "source": [
    "#Main coord is indicative of the central long/lat position of Amsterdam\n",
    "main_coord = (52.3676, 4.9041)\n",
    "\n",
    "def get_dist(row):\n",
    "  coord = (row[\"latitude\"], row[\"longitude\"])\n",
    "  return geopy.distance.geodesic(main_coord, coord).km\n",
    "\n",
    "\n",
    "# Apply the function to each row\n",
    "df[\"distance_from_center\"] = df.apply(get_dist, axis=1)"
   ]
  },
  {
   "cell_type": "markdown",
   "id": "caef4ea6",
   "metadata": {},
   "source": [
    "### Section 3: Review"
   ]
  },
  {
   "cell_type": "code",
   "execution_count": 16,
   "id": "423930ab",
   "metadata": {},
   "outputs": [
    {
     "data": {
      "text/html": [
       "<div>\n",
       "<style scoped>\n",
       "    .dataframe tbody tr th:only-of-type {\n",
       "        vertical-align: middle;\n",
       "    }\n",
       "\n",
       "    .dataframe tbody tr th {\n",
       "        vertical-align: top;\n",
       "    }\n",
       "\n",
       "    .dataframe thead th {\n",
       "        text-align: right;\n",
       "    }\n",
       "</style>\n",
       "<table border=\"1\" class=\"dataframe\">\n",
       "  <thead>\n",
       "    <tr style=\"text-align: right;\">\n",
       "      <th></th>\n",
       "      <th>id</th>\n",
       "      <th>name</th>\n",
       "      <th>summary</th>\n",
       "      <th>host_id</th>\n",
       "      <th>host_is_superhost</th>\n",
       "      <th>neighbourhood_cleansed</th>\n",
       "      <th>latitude</th>\n",
       "      <th>longitude</th>\n",
       "      <th>property_type</th>\n",
       "      <th>room_type</th>\n",
       "      <th>...</th>\n",
       "      <th>review_scores_rating</th>\n",
       "      <th>review_scores_location</th>\n",
       "      <th>review_scores_value</th>\n",
       "      <th>instant_bookable</th>\n",
       "      <th>reviews_per_month</th>\n",
       "      <th>rated</th>\n",
       "      <th>pricing_tier</th>\n",
       "      <th>group_size</th>\n",
       "      <th>groupsize_pricing_combined</th>\n",
       "      <th>distance_from_center</th>\n",
       "    </tr>\n",
       "  </thead>\n",
       "  <tbody>\n",
       "    <tr>\n",
       "      <th>0</th>\n",
       "      <td>2818</td>\n",
       "      <td>Quiet Garden View Room &amp; Super Fast WiFi</td>\n",
       "      <td>Quiet Garden View Room &amp; Super Fast WiFi</td>\n",
       "      <td>3159</td>\n",
       "      <td>t</td>\n",
       "      <td>Oostelijk Havengebied - Indische Buurt</td>\n",
       "      <td>52.365755</td>\n",
       "      <td>4.941419</td>\n",
       "      <td>Apartment</td>\n",
       "      <td>Private room</td>\n",
       "      <td>...</td>\n",
       "      <td>97.0</td>\n",
       "      <td>9.0</td>\n",
       "      <td>10.0</td>\n",
       "      <td>t</td>\n",
       "      <td>2.10</td>\n",
       "      <td>True</td>\n",
       "      <td>Low</td>\n",
       "      <td>Small</td>\n",
       "      <td>Small Low</td>\n",
       "      <td>2.550299</td>\n",
       "    </tr>\n",
       "    <tr>\n",
       "      <th>1</th>\n",
       "      <td>3209</td>\n",
       "      <td>Quiet apt near center, great view</td>\n",
       "      <td>You will love our spacious (90 m2) bright apar...</td>\n",
       "      <td>3806</td>\n",
       "      <td>f</td>\n",
       "      <td>Westerpark</td>\n",
       "      <td>52.390225</td>\n",
       "      <td>4.873924</td>\n",
       "      <td>Apartment</td>\n",
       "      <td>Entire home/apt</td>\n",
       "      <td>...</td>\n",
       "      <td>96.0</td>\n",
       "      <td>9.0</td>\n",
       "      <td>9.0</td>\n",
       "      <td>f</td>\n",
       "      <td>1.03</td>\n",
       "      <td>True</td>\n",
       "      <td>Mid-High-End</td>\n",
       "      <td>Large</td>\n",
       "      <td>Large Mid-High-End</td>\n",
       "      <td>3.249737</td>\n",
       "    </tr>\n",
       "    <tr>\n",
       "      <th>2</th>\n",
       "      <td>20168</td>\n",
       "      <td>100%Centre-Studio 1 Private Floor/Bathroom</td>\n",
       "      <td>Cozy studio on your own private floor, 100% in...</td>\n",
       "      <td>59484</td>\n",
       "      <td>f</td>\n",
       "      <td>Centrum-Oost</td>\n",
       "      <td>52.365087</td>\n",
       "      <td>4.893541</td>\n",
       "      <td>Townhouse</td>\n",
       "      <td>Entire home/apt</td>\n",
       "      <td>...</td>\n",
       "      <td>87.0</td>\n",
       "      <td>10.0</td>\n",
       "      <td>9.0</td>\n",
       "      <td>f</td>\n",
       "      <td>2.18</td>\n",
       "      <td>True</td>\n",
       "      <td>Low</td>\n",
       "      <td>Small</td>\n",
       "      <td>Small Low</td>\n",
       "      <td>0.771682</td>\n",
       "    </tr>\n",
       "    <tr>\n",
       "      <th>3</th>\n",
       "      <td>25428</td>\n",
       "      <td>Lovely apt in City Centre (Jordaan)</td>\n",
       "      <td>NaN</td>\n",
       "      <td>56142</td>\n",
       "      <td>f</td>\n",
       "      <td>Centrum-West</td>\n",
       "      <td>52.373114</td>\n",
       "      <td>4.883668</td>\n",
       "      <td>Apartment</td>\n",
       "      <td>Entire home/apt</td>\n",
       "      <td>...</td>\n",
       "      <td>100.0</td>\n",
       "      <td>10.0</td>\n",
       "      <td>10.0</td>\n",
       "      <td>f</td>\n",
       "      <td>0.09</td>\n",
       "      <td>True</td>\n",
       "      <td>Mid-Low-End</td>\n",
       "      <td>Medium</td>\n",
       "      <td>Medium Mid-Low-End</td>\n",
       "      <td>1.520884</td>\n",
       "    </tr>\n",
       "    <tr>\n",
       "      <th>4</th>\n",
       "      <td>27886</td>\n",
       "      <td>Romantic, stylish B&amp;B houseboat in canal district</td>\n",
       "      <td>Stylish and romantic houseboat on fantastic hi...</td>\n",
       "      <td>97647</td>\n",
       "      <td>t</td>\n",
       "      <td>Centrum-West</td>\n",
       "      <td>52.386727</td>\n",
       "      <td>4.892078</td>\n",
       "      <td>Houseboat</td>\n",
       "      <td>Private room</td>\n",
       "      <td>...</td>\n",
       "      <td>99.0</td>\n",
       "      <td>10.0</td>\n",
       "      <td>10.0</td>\n",
       "      <td>t</td>\n",
       "      <td>2.03</td>\n",
       "      <td>True</td>\n",
       "      <td>Mid-High-End</td>\n",
       "      <td>Small</td>\n",
       "      <td>Small Mid-High-End</td>\n",
       "      <td>2.280408</td>\n",
       "    </tr>\n",
       "  </tbody>\n",
       "</table>\n",
       "<p>5 rows × 31 columns</p>\n",
       "</div>"
      ],
      "text/plain": [
       "      id                                               name  \\\n",
       "0   2818           Quiet Garden View Room & Super Fast WiFi   \n",
       "1   3209                  Quiet apt near center, great view   \n",
       "2  20168         100%Centre-Studio 1 Private Floor/Bathroom   \n",
       "3  25428                Lovely apt in City Centre (Jordaan)   \n",
       "4  27886  Romantic, stylish B&B houseboat in canal district   \n",
       "\n",
       "                                             summary  host_id  \\\n",
       "0           Quiet Garden View Room & Super Fast WiFi     3159   \n",
       "1  You will love our spacious (90 m2) bright apar...     3806   \n",
       "2  Cozy studio on your own private floor, 100% in...    59484   \n",
       "3                                                NaN    56142   \n",
       "4  Stylish and romantic houseboat on fantastic hi...    97647   \n",
       "\n",
       "  host_is_superhost                  neighbourhood_cleansed   latitude  \\\n",
       "0                 t  Oostelijk Havengebied - Indische Buurt  52.365755   \n",
       "1                 f                              Westerpark  52.390225   \n",
       "2                 f                            Centrum-Oost  52.365087   \n",
       "3                 f                            Centrum-West  52.373114   \n",
       "4                 t                            Centrum-West  52.386727   \n",
       "\n",
       "   longitude property_type        room_type  ...  review_scores_rating  \\\n",
       "0   4.941419     Apartment     Private room  ...                  97.0   \n",
       "1   4.873924     Apartment  Entire home/apt  ...                  96.0   \n",
       "2   4.893541     Townhouse  Entire home/apt  ...                  87.0   \n",
       "3   4.883668     Apartment  Entire home/apt  ...                 100.0   \n",
       "4   4.892078     Houseboat     Private room  ...                  99.0   \n",
       "\n",
       "   review_scores_location  review_scores_value instant_bookable  \\\n",
       "0                     9.0                 10.0                t   \n",
       "1                     9.0                  9.0                f   \n",
       "2                    10.0                  9.0                f   \n",
       "3                    10.0                 10.0                f   \n",
       "4                    10.0                 10.0                t   \n",
       "\n",
       "  reviews_per_month  rated  pricing_tier  group_size  \\\n",
       "0              2.10   True           Low       Small   \n",
       "1              1.03   True  Mid-High-End       Large   \n",
       "2              2.18   True           Low       Small   \n",
       "3              0.09   True   Mid-Low-End      Medium   \n",
       "4              2.03   True  Mid-High-End       Small   \n",
       "\n",
       "   groupsize_pricing_combined  distance_from_center  \n",
       "0                   Small Low              2.550299  \n",
       "1          Large Mid-High-End              3.249737  \n",
       "2                   Small Low              0.771682  \n",
       "3          Medium Mid-Low-End              1.520884  \n",
       "4          Small Mid-High-End              2.280408  \n",
       "\n",
       "[5 rows x 31 columns]"
      ]
     },
     "execution_count": 16,
     "metadata": {},
     "output_type": "execute_result"
    }
   ],
   "source": [
    "df.head()"
   ]
  },
  {
   "cell_type": "code",
   "execution_count": 18,
   "id": "2c145dae",
   "metadata": {},
   "outputs": [
    {
     "data": {
      "text/plain": [
       "17341"
      ]
     },
     "execution_count": 18,
     "metadata": {},
     "output_type": "execute_result"
    }
   ],
   "source": [
    "df['distance_from_center'].size # All rows appear to have a value"
   ]
  },
  {
   "cell_type": "code",
   "execution_count": 22,
   "id": "dc2c69a6",
   "metadata": {},
   "outputs": [
    {
     "name": "stdout",
     "output_type": "stream",
     "text": [
      "<class 'pandas.core.frame.DataFrame'>\n",
      "Index: 17341 entries, 0 to 20007\n",
      "Data columns (total 31 columns):\n",
      " #   Column                      Non-Null Count  Dtype  \n",
      "---  ------                      --------------  -----  \n",
      " 0   id                          17341 non-null  int64  \n",
      " 1   name                        17314 non-null  object \n",
      " 2   summary                     16908 non-null  object \n",
      " 3   host_id                     17341 non-null  int64  \n",
      " 4   host_is_superhost           17339 non-null  object \n",
      " 5   neighbourhood_cleansed      17341 non-null  object \n",
      " 6   latitude                    17341 non-null  float64\n",
      " 7   longitude                   17341 non-null  float64\n",
      " 8   property_type               17341 non-null  object \n",
      " 9   room_type                   17341 non-null  object \n",
      " 10  accommodates                17341 non-null  int64  \n",
      " 11  bedrooms                    17341 non-null  float64\n",
      " 12  beds                        17341 non-null  float64\n",
      " 13  bed_type                    17341 non-null  object \n",
      " 14  amenities                   17341 non-null  object \n",
      " 15  price                       17341 non-null  float64\n",
      " 16  guests_included             17341 non-null  int64  \n",
      " 17  minimum_nights              17341 non-null  int64  \n",
      " 18  maximum_nights              17341 non-null  int64  \n",
      " 19  availability_365            17341 non-null  int64  \n",
      " 20  number_of_reviews           17341 non-null  int64  \n",
      " 21  review_scores_rating        17341 non-null  float64\n",
      " 22  review_scores_location      17341 non-null  float64\n",
      " 23  review_scores_value         17341 non-null  float64\n",
      " 24  instant_bookable            17341 non-null  object \n",
      " 25  reviews_per_month           17341 non-null  float64\n",
      " 26  rated                       17341 non-null  bool   \n",
      " 27  pricing_tier                17341 non-null  object \n",
      " 28  group_size                  17341 non-null  object \n",
      " 29  groupsize_pricing_combined  17341 non-null  object \n",
      " 30  distance_from_center        17341 non-null  float64\n",
      "dtypes: bool(1), float64(10), int64(8), object(12)\n",
      "memory usage: 4.1+ MB\n"
     ]
    }
   ],
   "source": [
    "df.info() # New variable is the correct type, float"
   ]
  },
  {
   "cell_type": "code",
   "execution_count": 20,
   "id": "3637a582",
   "metadata": {},
   "outputs": [
    {
     "data": {
      "text/plain": [
       "id                              0\n",
       "name                           27\n",
       "summary                       433\n",
       "host_id                         0\n",
       "host_is_superhost               2\n",
       "neighbourhood_cleansed          0\n",
       "latitude                        0\n",
       "longitude                       0\n",
       "property_type                   0\n",
       "room_type                       0\n",
       "accommodates                    0\n",
       "bedrooms                        0\n",
       "beds                            0\n",
       "bed_type                        0\n",
       "amenities                       0\n",
       "price                           0\n",
       "guests_included                 0\n",
       "minimum_nights                  0\n",
       "maximum_nights                  0\n",
       "availability_365                0\n",
       "number_of_reviews               0\n",
       "review_scores_rating            0\n",
       "review_scores_location          0\n",
       "review_scores_value             0\n",
       "instant_bookable                0\n",
       "reviews_per_month               0\n",
       "rated                           0\n",
       "pricing_tier                    0\n",
       "group_size                      0\n",
       "groupsize_pricing_combined      0\n",
       "distance_from_center            0\n",
       "dtype: int64"
      ]
     },
     "execution_count": 20,
     "metadata": {},
     "output_type": "execute_result"
    }
   ],
   "source": [
    "df.isnull().sum()\n",
    "#No missing values in our new variable"
   ]
  },
  {
   "cell_type": "markdown",
   "id": "9d6b6883",
   "metadata": {},
   "source": [
    "### Section 4: Exporting"
   ]
  },
  {
   "cell_type": "code",
   "execution_count": 23,
   "id": "c5933e71",
   "metadata": {},
   "outputs": [],
   "source": [
    "df.to_csv(os.path.join(path,'prepared','listings_sub1K.csv'))"
   ]
  }
 ],
 "metadata": {
  "kernelspec": {
   "display_name": "Python 3 (ipykernel)",
   "language": "python",
   "name": "python3"
  },
  "language_info": {
   "codemirror_mode": {
    "name": "ipython",
    "version": 3
   },
   "file_extension": ".py",
   "mimetype": "text/x-python",
   "name": "python",
   "nbconvert_exporter": "python",
   "pygments_lexer": "ipython3",
   "version": "3.11.5"
  }
 },
 "nbformat": 4,
 "nbformat_minor": 5
}
