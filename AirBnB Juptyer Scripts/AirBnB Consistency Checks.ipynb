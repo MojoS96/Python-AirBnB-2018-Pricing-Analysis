{
 "cells": [
  {
   "cell_type": "markdown",
   "id": "04527cbf",
   "metadata": {},
   "source": [
    "# Section 6.1 - Airbnb Amsterdam Analysis\n",
    "\n",
    "### Chapter 1: Reviewing and cleaning 'Calendar' file: \n",
    "- This file contains data pertaining to the avilability of a particular listing across a 365 day period. If the property is available at a given point, then the advertised price is also provided.\n",
    "\n",
    "### Chapter 2: Reviewing, cleaning and deriving new grouping variables in our primary 'listings_details' file: \n",
    "- This file contains a row of data per unique listing within the Amsterdam region - All data present on public AirBnB pages are present. This includes listing name, price, bedroom count, review score, host details etc. etc....\n",
    "- New Variables generated will intially be based off the price & size of a given property based on Amsterdam averages. This may be redefined in subsequent sections depending on the needs of the analysis.\n",
    "\n"
   ]
  },
  {
   "cell_type": "code",
   "execution_count": 1,
   "id": "0aefe7ac",
   "metadata": {},
   "outputs": [],
   "source": [
    "# Import Libraries\n",
    "import pandas as pd\n",
    "import numpy as np\n",
    "import os\n",
    "import seaborn as sns\n",
    "import matplotlib.pyplot as plt\n",
    "\n",
    "# Creating File Pathway\n",
    "\n",
    "path = r'C:\\Users\\mojos\\Documents\\Career Foundry Course\\Data Immersion\\Section 6\\AirBnB Amsterdam Project\\AirBnB Data'"
   ]
  },
  {
   "cell_type": "markdown",
   "id": "f4af8394",
   "metadata": {},
   "source": [
    "### Chapter 1 - Calendar Overview"
   ]
  },
  {
   "cell_type": "code",
   "execution_count": 2,
   "id": "0a7e4933",
   "metadata": {},
   "outputs": [],
   "source": [
    "#Import CSV as Dataframe\n",
    "calendar = pd.read_csv(os.path.join(path,'Raw','Calendar.csv'))"
   ]
  },
  {
   "cell_type": "markdown",
   "id": "8035d24d",
   "metadata": {},
   "source": [
    "#### Preliminary consisty checks performed below to get undertsanding of data size and data types."
   ]
  },
  {
   "cell_type": "code",
   "execution_count": 3,
   "id": "66676819",
   "metadata": {
    "scrolled": true
   },
   "outputs": [
    {
     "data": {
      "text/html": [
       "<div>\n",
       "<style scoped>\n",
       "    .dataframe tbody tr th:only-of-type {\n",
       "        vertical-align: middle;\n",
       "    }\n",
       "\n",
       "    .dataframe tbody tr th {\n",
       "        vertical-align: top;\n",
       "    }\n",
       "\n",
       "    .dataframe thead th {\n",
       "        text-align: right;\n",
       "    }\n",
       "</style>\n",
       "<table border=\"1\" class=\"dataframe\">\n",
       "  <thead>\n",
       "    <tr style=\"text-align: right;\">\n",
       "      <th></th>\n",
       "      <th>listing_id</th>\n",
       "      <th>date</th>\n",
       "      <th>available</th>\n",
       "      <th>price</th>\n",
       "    </tr>\n",
       "  </thead>\n",
       "  <tbody>\n",
       "    <tr>\n",
       "      <th>0</th>\n",
       "      <td>2818</td>\n",
       "      <td>2019-12-05</td>\n",
       "      <td>f</td>\n",
       "      <td>NaN</td>\n",
       "    </tr>\n",
       "    <tr>\n",
       "      <th>1</th>\n",
       "      <td>73208</td>\n",
       "      <td>2019-08-30</td>\n",
       "      <td>f</td>\n",
       "      <td>NaN</td>\n",
       "    </tr>\n",
       "    <tr>\n",
       "      <th>2</th>\n",
       "      <td>73208</td>\n",
       "      <td>2019-08-29</td>\n",
       "      <td>f</td>\n",
       "      <td>NaN</td>\n",
       "    </tr>\n",
       "    <tr>\n",
       "      <th>3</th>\n",
       "      <td>73208</td>\n",
       "      <td>2019-08-28</td>\n",
       "      <td>f</td>\n",
       "      <td>NaN</td>\n",
       "    </tr>\n",
       "    <tr>\n",
       "      <th>4</th>\n",
       "      <td>73208</td>\n",
       "      <td>2019-08-27</td>\n",
       "      <td>f</td>\n",
       "      <td>NaN</td>\n",
       "    </tr>\n",
       "  </tbody>\n",
       "</table>\n",
       "</div>"
      ],
      "text/plain": [
       "   listing_id        date available price\n",
       "0        2818  2019-12-05         f   NaN\n",
       "1       73208  2019-08-30         f   NaN\n",
       "2       73208  2019-08-29         f   NaN\n",
       "3       73208  2019-08-28         f   NaN\n",
       "4       73208  2019-08-27         f   NaN"
      ]
     },
     "execution_count": 3,
     "metadata": {},
     "output_type": "execute_result"
    }
   ],
   "source": [
    "calendar.head()"
   ]
  },
  {
   "cell_type": "code",
   "execution_count": 4,
   "id": "c755bedc",
   "metadata": {},
   "outputs": [
    {
     "data": {
      "text/plain": [
       "(7310950, 4)"
      ]
     },
     "execution_count": 4,
     "metadata": {},
     "output_type": "execute_result"
    }
   ],
   "source": [
    "calendar.shape"
   ]
  },
  {
   "cell_type": "code",
   "execution_count": 5,
   "id": "67264b58",
   "metadata": {},
   "outputs": [
    {
     "name": "stdout",
     "output_type": "stream",
     "text": [
      "<class 'pandas.core.frame.DataFrame'>\n",
      "RangeIndex: 7310950 entries, 0 to 7310949\n",
      "Data columns (total 4 columns):\n",
      " #   Column      Dtype \n",
      "---  ------      ----- \n",
      " 0   listing_id  int64 \n",
      " 1   date        object\n",
      " 2   available   object\n",
      " 3   price       object\n",
      "dtypes: int64(1), object(3)\n",
      "memory usage: 223.1+ MB\n"
     ]
    }
   ],
   "source": [
    "calendar.info()"
   ]
  },
  {
   "cell_type": "code",
   "execution_count": 6,
   "id": "ce04be0d",
   "metadata": {},
   "outputs": [
    {
     "data": {
      "text/html": [
       "<div>\n",
       "<style scoped>\n",
       "    .dataframe tbody tr th:only-of-type {\n",
       "        vertical-align: middle;\n",
       "    }\n",
       "\n",
       "    .dataframe tbody tr th {\n",
       "        vertical-align: top;\n",
       "    }\n",
       "\n",
       "    .dataframe thead th {\n",
       "        text-align: right;\n",
       "    }\n",
       "</style>\n",
       "<table border=\"1\" class=\"dataframe\">\n",
       "  <thead>\n",
       "    <tr style=\"text-align: right;\">\n",
       "      <th></th>\n",
       "      <th>listing_id</th>\n",
       "    </tr>\n",
       "  </thead>\n",
       "  <tbody>\n",
       "    <tr>\n",
       "      <th>count</th>\n",
       "      <td>7.310950e+06</td>\n",
       "    </tr>\n",
       "    <tr>\n",
       "      <th>mean</th>\n",
       "      <td>1.541725e+07</td>\n",
       "    </tr>\n",
       "    <tr>\n",
       "      <th>std</th>\n",
       "      <td>8.569190e+06</td>\n",
       "    </tr>\n",
       "    <tr>\n",
       "      <th>min</th>\n",
       "      <td>2.818000e+03</td>\n",
       "    </tr>\n",
       "    <tr>\n",
       "      <th>25%</th>\n",
       "      <td>8.187901e+06</td>\n",
       "    </tr>\n",
       "    <tr>\n",
       "      <th>50%</th>\n",
       "      <td>1.563049e+07</td>\n",
       "    </tr>\n",
       "    <tr>\n",
       "      <th>75%</th>\n",
       "      <td>2.202612e+07</td>\n",
       "    </tr>\n",
       "    <tr>\n",
       "      <th>max</th>\n",
       "      <td>3.058041e+07</td>\n",
       "    </tr>\n",
       "  </tbody>\n",
       "</table>\n",
       "</div>"
      ],
      "text/plain": [
       "         listing_id\n",
       "count  7.310950e+06\n",
       "mean   1.541725e+07\n",
       "std    8.569190e+06\n",
       "min    2.818000e+03\n",
       "25%    8.187901e+06\n",
       "50%    1.563049e+07\n",
       "75%    2.202612e+07\n",
       "max    3.058041e+07"
      ]
     },
     "execution_count": 6,
     "metadata": {},
     "output_type": "execute_result"
    }
   ],
   "source": [
    "calendar.describe()"
   ]
  },
  {
   "cell_type": "code",
   "execution_count": 7,
   "id": "948a0afa",
   "metadata": {},
   "outputs": [
    {
     "data": {
      "text/plain": [
       "listing_id          0\n",
       "date                0\n",
       "available           0\n",
       "price         6110879\n",
       "dtype: int64"
      ]
     },
     "execution_count": 7,
     "metadata": {},
     "output_type": "execute_result"
    }
   ],
   "source": [
    "calendar.isnull().sum()"
   ]
  },
  {
   "cell_type": "markdown",
   "id": "c1d6b627",
   "metadata": {},
   "source": [
    "#### The 6 million missing values represent rows where the listing WAS rented (not available) and as such, no price value exists. In order to try and understand how pricing fluctuates over time, we need to subset only the rows with pricing available so that we can do some future transformations using date/price  (and any other variables we develop during the course of the project)."
   ]
  },
  {
   "cell_type": "code",
   "execution_count": 8,
   "id": "d5518b7b",
   "metadata": {},
   "outputs": [
    {
     "name": "stdout",
     "output_type": "stream",
     "text": [
      "<class 'pandas.core.frame.DataFrame'>\n",
      "Index: 1200071 entries, 240 to 7310949\n",
      "Data columns (total 4 columns):\n",
      " #   Column      Non-Null Count    Dtype \n",
      "---  ------      --------------    ----- \n",
      " 0   listing_id  1200071 non-null  int64 \n",
      " 1   date        1200071 non-null  object\n",
      " 2   available   1200071 non-null  object\n",
      " 3   price       1200071 non-null  object\n",
      "dtypes: int64(1), object(3)\n",
      "memory usage: 45.8+ MB\n"
     ]
    }
   ],
   "source": [
    "#Subsetting a new dataset which we'll use moving forwards which contains ONLY rows with prices\n",
    "\n",
    "calendar_prices = calendar[calendar['price'].isnull()==False]\n",
    "calendar_prices.info()"
   ]
  },
  {
   "cell_type": "code",
   "execution_count": 9,
   "id": "48cddaa3",
   "metadata": {},
   "outputs": [
    {
     "name": "stderr",
     "output_type": "stream",
     "text": [
      "C:\\Users\\mojos\\AppData\\Local\\Temp\\ipykernel_20984\\2317224911.py:4: FutureWarning: DataFrame.applymap has been deprecated. Use DataFrame.map instead.\n",
      "  weird = (calendar_prices[[col]].applymap(type) != calendar_prices[[col]].iloc[0].apply(type)).any(axis=1)\n",
      "C:\\Users\\mojos\\AppData\\Local\\Temp\\ipykernel_20984\\2317224911.py:4: FutureWarning: DataFrame.applymap has been deprecated. Use DataFrame.map instead.\n",
      "  weird = (calendar_prices[[col]].applymap(type) != calendar_prices[[col]].iloc[0].apply(type)).any(axis=1)\n",
      "C:\\Users\\mojos\\AppData\\Local\\Temp\\ipykernel_20984\\2317224911.py:4: FutureWarning: DataFrame.applymap has been deprecated. Use DataFrame.map instead.\n",
      "  weird = (calendar_prices[[col]].applymap(type) != calendar_prices[[col]].iloc[0].apply(type)).any(axis=1)\n",
      "C:\\Users\\mojos\\AppData\\Local\\Temp\\ipykernel_20984\\2317224911.py:4: FutureWarning: DataFrame.applymap has been deprecated. Use DataFrame.map instead.\n",
      "  weird = (calendar_prices[[col]].applymap(type) != calendar_prices[[col]].iloc[0].apply(type)).any(axis=1)\n"
     ]
    }
   ],
   "source": [
    "#Checking for mixed Data Types - No results found, clearing output for the sake of readability\n",
    "\n",
    "for col in calendar_prices.columns.tolist():\n",
    "    weird = (calendar_prices[[col]].applymap(type) != calendar_prices[[col]].iloc[0].apply(type)).any(axis=1)\n",
    "    if len (calendar_prices[weird]) > 0:\n",
    "        print(col)"
   ]
  },
  {
   "cell_type": "code",
   "execution_count": 10,
   "id": "b7197d15",
   "metadata": {},
   "outputs": [
    {
     "name": "stderr",
     "output_type": "stream",
     "text": [
      "C:\\Users\\mojos\\AppData\\Local\\Temp\\ipykernel_20984\\464882372.py:9: SettingWithCopyWarning: \n",
      "A value is trying to be set on a copy of a slice from a DataFrame.\n",
      "Try using .loc[row_indexer,col_indexer] = value instead\n",
      "\n",
      "See the caveats in the documentation: https://pandas.pydata.org/pandas-docs/stable/user_guide/indexing.html#returning-a-view-versus-a-copy\n",
      "  calendar_prices['price'] = remove_hyphen(calendar_prices['price'])\n",
      "C:\\Users\\mojos\\AppData\\Local\\Temp\\ipykernel_20984\\464882372.py:10: SettingWithCopyWarning: \n",
      "A value is trying to be set on a copy of a slice from a DataFrame.\n",
      "Try using .loc[row_indexer,col_indexer] = value instead\n",
      "\n",
      "See the caveats in the documentation: https://pandas.pydata.org/pandas-docs/stable/user_guide/indexing.html#returning-a-view-versus-a-copy\n",
      "  calendar_prices['price'] = remove_comma(calendar_prices['price'])\n"
     ]
    }
   ],
   "source": [
    "#Formatting on prices is incorrect - special characters preventing us from converting to 'float' dtype.\n",
    "#using user defined function, because we may be likely to have to re-use them on the second dataset in a short while.\n",
    "\n",
    "def remove_hyphen(column):\n",
    "    return column.str.replace('$', '')\n",
    "def remove_comma(column):\n",
    "    return column.str.replace(',', '')\n",
    "\n",
    "calendar_prices['price'] = remove_hyphen(calendar_prices['price'])\n",
    "calendar_prices['price'] = remove_comma(calendar_prices['price'])\n"
   ]
  },
  {
   "cell_type": "code",
   "execution_count": 11,
   "id": "fb944527",
   "metadata": {},
   "outputs": [
    {
     "name": "stdout",
     "output_type": "stream",
     "text": [
      "<class 'pandas.core.frame.DataFrame'>\n",
      "Index: 1200071 entries, 240 to 7310949\n",
      "Data columns (total 4 columns):\n",
      " #   Column      Non-Null Count    Dtype  \n",
      "---  ------      --------------    -----  \n",
      " 0   listing_id  1200071 non-null  object \n",
      " 1   date        1200071 non-null  object \n",
      " 2   available   1200071 non-null  object \n",
      " 3   price       1200071 non-null  float64\n",
      "dtypes: float64(1), object(3)\n",
      "memory usage: 45.8+ MB\n"
     ]
    },
    {
     "name": "stderr",
     "output_type": "stream",
     "text": [
      "C:\\Users\\mojos\\AppData\\Local\\Temp\\ipykernel_20984\\345433154.py:2: SettingWithCopyWarning: \n",
      "A value is trying to be set on a copy of a slice from a DataFrame.\n",
      "Try using .loc[row_indexer,col_indexer] = value instead\n",
      "\n",
      "See the caveats in the documentation: https://pandas.pydata.org/pandas-docs/stable/user_guide/indexing.html#returning-a-view-versus-a-copy\n",
      "  calendar_prices['listing_id'] = calendar_prices['listing_id'].astype('str')\n",
      "C:\\Users\\mojos\\AppData\\Local\\Temp\\ipykernel_20984\\345433154.py:3: SettingWithCopyWarning: \n",
      "A value is trying to be set on a copy of a slice from a DataFrame.\n",
      "Try using .loc[row_indexer,col_indexer] = value instead\n",
      "\n",
      "See the caveats in the documentation: https://pandas.pydata.org/pandas-docs/stable/user_guide/indexing.html#returning-a-view-versus-a-copy\n",
      "  calendar_prices['price'] = calendar_prices['price'].astype('float')\n"
     ]
    }
   ],
   "source": [
    "#converting identifier value to string, as it serves no numerical purpose, Price updated to float so that statistical tests can be performed\n",
    "calendar_prices['listing_id'] = calendar_prices['listing_id'].astype('str')\n",
    "calendar_prices['price'] = calendar_prices['price'].astype('float')\n",
    "calendar_prices.info()"
   ]
  },
  {
   "cell_type": "code",
   "execution_count": 12,
   "id": "7eaa11f0",
   "metadata": {},
   "outputs": [
    {
     "data": {
      "text/plain": [
       "(1200071, 4)"
      ]
     },
     "execution_count": 12,
     "metadata": {},
     "output_type": "execute_result"
    }
   ],
   "source": [
    "calendar_prices.shape"
   ]
  },
  {
   "cell_type": "code",
   "execution_count": 13,
   "id": "592fa2aa",
   "metadata": {},
   "outputs": [],
   "source": [
    "#Bringin descriptive stats into CSV Project plan file\n",
    "calendar_prices.describe().to_clipboard()"
   ]
  },
  {
   "cell_type": "code",
   "execution_count": 14,
   "id": "ef8ab863",
   "metadata": {},
   "outputs": [],
   "source": [
    "#After reviewing the descriptions into excel, the 'min' value was 9, and there was only 1 instance of that occuring\n",
    "#Checking frequency to see if it's an error\n",
    "calendar_prices.groupby('price')['listing_id'].nunique().to_clipboard()"
   ]
  },
  {
   "cell_type": "code",
   "execution_count": 15,
   "id": "83a8aee3",
   "metadata": {},
   "outputs": [
    {
     "data": {
      "text/html": [
       "<div>\n",
       "<style scoped>\n",
       "    .dataframe tbody tr th:only-of-type {\n",
       "        vertical-align: middle;\n",
       "    }\n",
       "\n",
       "    .dataframe tbody tr th {\n",
       "        vertical-align: top;\n",
       "    }\n",
       "\n",
       "    .dataframe thead th {\n",
       "        text-align: right;\n",
       "    }\n",
       "</style>\n",
       "<table border=\"1\" class=\"dataframe\">\n",
       "  <thead>\n",
       "    <tr style=\"text-align: right;\">\n",
       "      <th></th>\n",
       "      <th>listing_id</th>\n",
       "      <th>date</th>\n",
       "      <th>available</th>\n",
       "      <th>price</th>\n",
       "    </tr>\n",
       "  </thead>\n",
       "  <tbody>\n",
       "    <tr>\n",
       "      <th>1277058</th>\n",
       "      <td>5865168</td>\n",
       "      <td>2018-12-11</td>\n",
       "      <td>t</td>\n",
       "      <td>9.0</td>\n",
       "    </tr>\n",
       "  </tbody>\n",
       "</table>\n",
       "</div>"
      ],
      "text/plain": [
       "        listing_id        date available  price\n",
       "1277058    5865168  2018-12-11         t    9.0"
      ]
     },
     "execution_count": 15,
     "metadata": {},
     "output_type": "execute_result"
    }
   ],
   "source": [
    "#Frequency review indicated that 21 was the lowest reoccuring price - highlighting the row with the incorrect '9' value\n",
    "calender_low_price_subset = calendar_prices[calendar_prices['price']<=20]\n",
    "calender_low_price_subset.head()"
   ]
  },
  {
   "cell_type": "code",
   "execution_count": 16,
   "id": "10eb1ff6",
   "metadata": {},
   "outputs": [
    {
     "data": {
      "text/html": [
       "<div>\n",
       "<style scoped>\n",
       "    .dataframe tbody tr th:only-of-type {\n",
       "        vertical-align: middle;\n",
       "    }\n",
       "\n",
       "    .dataframe tbody tr th {\n",
       "        vertical-align: top;\n",
       "    }\n",
       "\n",
       "    .dataframe thead th {\n",
       "        text-align: right;\n",
       "    }\n",
       "</style>\n",
       "<table border=\"1\" class=\"dataframe\">\n",
       "  <thead>\n",
       "    <tr style=\"text-align: right;\">\n",
       "      <th></th>\n",
       "      <th>listing_id</th>\n",
       "      <th>date</th>\n",
       "      <th>available</th>\n",
       "      <th>price</th>\n",
       "    </tr>\n",
       "  </thead>\n",
       "  <tbody>\n",
       "    <tr>\n",
       "      <th>1276120</th>\n",
       "      <td>5865168</td>\n",
       "      <td>2019-06-30</td>\n",
       "      <td>t</td>\n",
       "      <td>180.0</td>\n",
       "    </tr>\n",
       "    <tr>\n",
       "      <th>1276121</th>\n",
       "      <td>5865168</td>\n",
       "      <td>2019-06-29</td>\n",
       "      <td>t</td>\n",
       "      <td>180.0</td>\n",
       "    </tr>\n",
       "    <tr>\n",
       "      <th>1276122</th>\n",
       "      <td>5865168</td>\n",
       "      <td>2019-06-28</td>\n",
       "      <td>t</td>\n",
       "      <td>180.0</td>\n",
       "    </tr>\n",
       "    <tr>\n",
       "      <th>1276123</th>\n",
       "      <td>5865168</td>\n",
       "      <td>2019-06-27</td>\n",
       "      <td>t</td>\n",
       "      <td>180.0</td>\n",
       "    </tr>\n",
       "    <tr>\n",
       "      <th>1276124</th>\n",
       "      <td>5865168</td>\n",
       "      <td>2019-06-26</td>\n",
       "      <td>t</td>\n",
       "      <td>180.0</td>\n",
       "    </tr>\n",
       "    <tr>\n",
       "      <th>...</th>\n",
       "      <td>...</td>\n",
       "      <td>...</td>\n",
       "      <td>...</td>\n",
       "      <td>...</td>\n",
       "    </tr>\n",
       "    <tr>\n",
       "      <th>1277052</th>\n",
       "      <td>5865168</td>\n",
       "      <td>2018-12-17</td>\n",
       "      <td>t</td>\n",
       "      <td>80.0</td>\n",
       "    </tr>\n",
       "    <tr>\n",
       "      <th>1277053</th>\n",
       "      <td>5865168</td>\n",
       "      <td>2018-12-16</td>\n",
       "      <td>t</td>\n",
       "      <td>80.0</td>\n",
       "    </tr>\n",
       "    <tr>\n",
       "      <th>1277057</th>\n",
       "      <td>5865168</td>\n",
       "      <td>2018-12-12</td>\n",
       "      <td>t</td>\n",
       "      <td>98.0</td>\n",
       "    </tr>\n",
       "    <tr>\n",
       "      <th>1277058</th>\n",
       "      <td>5865168</td>\n",
       "      <td>2018-12-11</td>\n",
       "      <td>t</td>\n",
       "      <td>9.0</td>\n",
       "    </tr>\n",
       "    <tr>\n",
       "      <th>1277131</th>\n",
       "      <td>5865168</td>\n",
       "      <td>2018-12-10</td>\n",
       "      <td>t</td>\n",
       "      <td>98.0</td>\n",
       "    </tr>\n",
       "  </tbody>\n",
       "</table>\n",
       "<p>145 rows × 4 columns</p>\n",
       "</div>"
      ],
      "text/plain": [
       "        listing_id        date available  price\n",
       "1276120    5865168  2019-06-30         t  180.0\n",
       "1276121    5865168  2019-06-29         t  180.0\n",
       "1276122    5865168  2019-06-28         t  180.0\n",
       "1276123    5865168  2019-06-27         t  180.0\n",
       "1276124    5865168  2019-06-26         t  180.0\n",
       "...            ...         ...       ...    ...\n",
       "1277052    5865168  2018-12-17         t   80.0\n",
       "1277053    5865168  2018-12-16         t   80.0\n",
       "1277057    5865168  2018-12-12         t   98.0\n",
       "1277058    5865168  2018-12-11         t    9.0\n",
       "1277131    5865168  2018-12-10         t   98.0\n",
       "\n",
       "[145 rows x 4 columns]"
      ]
     },
     "execution_count": 16,
     "metadata": {},
     "output_type": "execute_result"
    }
   ],
   "source": [
    "#Reviewing listing_id details to identify potential solution\n",
    "calendar_prices[calendar_prices['listing_id']=='5865168']"
   ]
  },
  {
   "cell_type": "markdown",
   "id": "1fb4b481",
   "metadata": {},
   "source": [
    "#### The 9 value in 'price' only appears once, and is sandwhiched inbetween two instances of 98 - this looks to be a system error, and the value should subsequently be corrected back to 98."
   ]
  },
  {
   "cell_type": "code",
   "execution_count": 17,
   "id": "442b6375",
   "metadata": {},
   "outputs": [
    {
     "data": {
      "text/html": [
       "<div>\n",
       "<style scoped>\n",
       "    .dataframe tbody tr th:only-of-type {\n",
       "        vertical-align: middle;\n",
       "    }\n",
       "\n",
       "    .dataframe tbody tr th {\n",
       "        vertical-align: top;\n",
       "    }\n",
       "\n",
       "    .dataframe thead th {\n",
       "        text-align: right;\n",
       "    }\n",
       "</style>\n",
       "<table border=\"1\" class=\"dataframe\">\n",
       "  <thead>\n",
       "    <tr style=\"text-align: right;\">\n",
       "      <th></th>\n",
       "      <th>listing_id</th>\n",
       "      <th>date</th>\n",
       "      <th>available</th>\n",
       "      <th>price</th>\n",
       "    </tr>\n",
       "  </thead>\n",
       "  <tbody>\n",
       "    <tr>\n",
       "      <th>1276120</th>\n",
       "      <td>5865168</td>\n",
       "      <td>2019-06-30</td>\n",
       "      <td>t</td>\n",
       "      <td>180.0</td>\n",
       "    </tr>\n",
       "    <tr>\n",
       "      <th>1276121</th>\n",
       "      <td>5865168</td>\n",
       "      <td>2019-06-29</td>\n",
       "      <td>t</td>\n",
       "      <td>180.0</td>\n",
       "    </tr>\n",
       "    <tr>\n",
       "      <th>1276122</th>\n",
       "      <td>5865168</td>\n",
       "      <td>2019-06-28</td>\n",
       "      <td>t</td>\n",
       "      <td>180.0</td>\n",
       "    </tr>\n",
       "    <tr>\n",
       "      <th>1276123</th>\n",
       "      <td>5865168</td>\n",
       "      <td>2019-06-27</td>\n",
       "      <td>t</td>\n",
       "      <td>180.0</td>\n",
       "    </tr>\n",
       "    <tr>\n",
       "      <th>1276124</th>\n",
       "      <td>5865168</td>\n",
       "      <td>2019-06-26</td>\n",
       "      <td>t</td>\n",
       "      <td>180.0</td>\n",
       "    </tr>\n",
       "    <tr>\n",
       "      <th>...</th>\n",
       "      <td>...</td>\n",
       "      <td>...</td>\n",
       "      <td>...</td>\n",
       "      <td>...</td>\n",
       "    </tr>\n",
       "    <tr>\n",
       "      <th>1277052</th>\n",
       "      <td>5865168</td>\n",
       "      <td>2018-12-17</td>\n",
       "      <td>t</td>\n",
       "      <td>80.0</td>\n",
       "    </tr>\n",
       "    <tr>\n",
       "      <th>1277053</th>\n",
       "      <td>5865168</td>\n",
       "      <td>2018-12-16</td>\n",
       "      <td>t</td>\n",
       "      <td>80.0</td>\n",
       "    </tr>\n",
       "    <tr>\n",
       "      <th>1277057</th>\n",
       "      <td>5865168</td>\n",
       "      <td>2018-12-12</td>\n",
       "      <td>t</td>\n",
       "      <td>98.0</td>\n",
       "    </tr>\n",
       "    <tr>\n",
       "      <th>1277058</th>\n",
       "      <td>5865168</td>\n",
       "      <td>2018-12-11</td>\n",
       "      <td>t</td>\n",
       "      <td>98.0</td>\n",
       "    </tr>\n",
       "    <tr>\n",
       "      <th>1277131</th>\n",
       "      <td>5865168</td>\n",
       "      <td>2018-12-10</td>\n",
       "      <td>t</td>\n",
       "      <td>98.0</td>\n",
       "    </tr>\n",
       "  </tbody>\n",
       "</table>\n",
       "<p>145 rows × 4 columns</p>\n",
       "</div>"
      ],
      "text/plain": [
       "        listing_id        date available  price\n",
       "1276120    5865168  2019-06-30         t  180.0\n",
       "1276121    5865168  2019-06-29         t  180.0\n",
       "1276122    5865168  2019-06-28         t  180.0\n",
       "1276123    5865168  2019-06-27         t  180.0\n",
       "1276124    5865168  2019-06-26         t  180.0\n",
       "...            ...         ...       ...    ...\n",
       "1277052    5865168  2018-12-17         t   80.0\n",
       "1277053    5865168  2018-12-16         t   80.0\n",
       "1277057    5865168  2018-12-12         t   98.0\n",
       "1277058    5865168  2018-12-11         t   98.0\n",
       "1277131    5865168  2018-12-10         t   98.0\n",
       "\n",
       "[145 rows x 4 columns]"
      ]
     },
     "execution_count": 17,
     "metadata": {},
     "output_type": "execute_result"
    }
   ],
   "source": [
    "#Checking & Updating output\n",
    "calendar_prices.loc[calendar_prices['price']<=10, 'price'] = 98\n",
    "calendar_prices[calendar_prices['listing_id']=='5865168']"
   ]
  },
  {
   "cell_type": "code",
   "execution_count": 18,
   "id": "c0ab50a1",
   "metadata": {},
   "outputs": [],
   "source": [
    "calendar_prices.describe().to_clipboard()"
   ]
  },
  {
   "cell_type": "code",
   "execution_count": 19,
   "id": "d1ac4415",
   "metadata": {},
   "outputs": [
    {
     "data": {
      "text/plain": [
       "(0, 4)"
      ]
     },
     "execution_count": 19,
     "metadata": {},
     "output_type": "execute_result"
    }
   ],
   "source": [
    "#Duplicate checks\n",
    "calendar_dupes = calendar_prices[calendar_prices.duplicated()]\n",
    "calendar_dupes.shape"
   ]
  },
  {
   "cell_type": "code",
   "execution_count": 20,
   "id": "89f27d8a",
   "metadata": {},
   "outputs": [],
   "source": [
    "#Exporting prepared output, ready for next ex.\n",
    "calendar_prices.to_csv(os.path.join(path,'prepared','calendar_prices.csv'))"
   ]
  },
  {
   "cell_type": "markdown",
   "id": "b4604881",
   "metadata": {},
   "source": [
    "## Chapter 2\n",
    "#### Listings_details File Overview"
   ]
  },
  {
   "cell_type": "code",
   "execution_count": 21,
   "id": "15e7ccd9",
   "metadata": {},
   "outputs": [
    {
     "name": "stdout",
     "output_type": "stream",
     "text": [
      "<class 'pandas.core.frame.DataFrame'>\n",
      "RangeIndex: 20030 entries, 0 to 20029\n",
      "Data columns (total 47 columns):\n",
      " #   Column                          Non-Null Count  Dtype  \n",
      "---  ------                          --------------  -----  \n",
      " 0   id                              20030 non-null  int64  \n",
      " 1   name                            19992 non-null  object \n",
      " 2   summary                         19510 non-null  object \n",
      " 3   space                           14579 non-null  object \n",
      " 4   description                     19906 non-null  object \n",
      " 5   host_id                         20030 non-null  int64  \n",
      " 6   host_is_superhost               20026 non-null  object \n",
      " 7   host_total_listings_count       20026 non-null  float64\n",
      " 8   host_has_profile_pic            20026 non-null  object \n",
      " 9   host_identity_verified          20026 non-null  object \n",
      " 10  neighbourhood                   18377 non-null  object \n",
      " 11  neighbourhood_cleansed          20030 non-null  object \n",
      " 12  country                         20030 non-null  object \n",
      " 13  latitude                        20030 non-null  float64\n",
      " 14  longitude                       20030 non-null  float64\n",
      " 15  property_type                   20030 non-null  object \n",
      " 16  room_type                       20030 non-null  object \n",
      " 17  accommodates                    20030 non-null  int64  \n",
      " 18  bathrooms                       20020 non-null  float64\n",
      " 19  bedrooms                        20022 non-null  float64\n",
      " 20  beds                            20023 non-null  float64\n",
      " 21  bed_type                        20030 non-null  object \n",
      " 22  amenities                       20030 non-null  object \n",
      " 23  price                           20030 non-null  object \n",
      " 24  guests_included                 20030 non-null  int64  \n",
      " 25  extra_people                    20030 non-null  object \n",
      " 26  minimum_nights                  20030 non-null  int64  \n",
      " 27  maximum_nights                  20030 non-null  int64  \n",
      " 28  calendar_updated                20030 non-null  object \n",
      " 29  has_availability                20030 non-null  object \n",
      " 30  availability_30                 20030 non-null  int64  \n",
      " 31  availability_60                 20030 non-null  int64  \n",
      " 32  availability_90                 20030 non-null  int64  \n",
      " 33  availability_365                20030 non-null  int64  \n",
      " 34  number_of_reviews               20030 non-null  int64  \n",
      " 35  review_scores_rating            17391 non-null  float64\n",
      " 36  review_scores_accuracy          17381 non-null  float64\n",
      " 37  review_scores_cleanliness       17383 non-null  float64\n",
      " 38  review_scores_checkin           17369 non-null  float64\n",
      " 39  review_scores_communication     17378 non-null  float64\n",
      " 40  review_scores_location          17370 non-null  float64\n",
      " 41  review_scores_value             17371 non-null  float64\n",
      " 42  requires_license                20030 non-null  object \n",
      " 43  instant_bookable                20030 non-null  object \n",
      " 44  cancellation_policy             20030 non-null  object \n",
      " 45  calculated_host_listings_count  20030 non-null  int64  \n",
      " 46  reviews_per_month               17624 non-null  float64\n",
      "dtypes: float64(14), int64(12), object(21)\n",
      "memory usage: 7.2+ MB\n"
     ]
    }
   ],
   "source": [
    "lis_details = pd.read_csv(os.path.join(path,'Raw','listings_details_columns_removed.csv'))\n",
    "lis_details.info()"
   ]
  },
  {
   "cell_type": "markdown",
   "id": "130f2415",
   "metadata": {},
   "source": [
    "#### Preliminary review of size and columns"
   ]
  },
  {
   "cell_type": "code",
   "execution_count": 22,
   "id": "c1fd9497",
   "metadata": {},
   "outputs": [
    {
     "data": {
      "text/plain": [
       "(20030, 47)"
      ]
     },
     "execution_count": 22,
     "metadata": {},
     "output_type": "execute_result"
    }
   ],
   "source": [
    "lis_details.shape"
   ]
  },
  {
   "cell_type": "code",
   "execution_count": 23,
   "id": "ca4ba874",
   "metadata": {},
   "outputs": [
    {
     "data": {
      "text/html": [
       "<div>\n",
       "<style scoped>\n",
       "    .dataframe tbody tr th:only-of-type {\n",
       "        vertical-align: middle;\n",
       "    }\n",
       "\n",
       "    .dataframe tbody tr th {\n",
       "        vertical-align: top;\n",
       "    }\n",
       "\n",
       "    .dataframe thead th {\n",
       "        text-align: right;\n",
       "    }\n",
       "</style>\n",
       "<table border=\"1\" class=\"dataframe\">\n",
       "  <thead>\n",
       "    <tr style=\"text-align: right;\">\n",
       "      <th></th>\n",
       "      <th>id</th>\n",
       "      <th>name</th>\n",
       "      <th>summary</th>\n",
       "      <th>space</th>\n",
       "      <th>description</th>\n",
       "      <th>host_id</th>\n",
       "      <th>host_is_superhost</th>\n",
       "      <th>host_total_listings_count</th>\n",
       "      <th>host_has_profile_pic</th>\n",
       "      <th>host_identity_verified</th>\n",
       "      <th>...</th>\n",
       "      <th>review_scores_cleanliness</th>\n",
       "      <th>review_scores_checkin</th>\n",
       "      <th>review_scores_communication</th>\n",
       "      <th>review_scores_location</th>\n",
       "      <th>review_scores_value</th>\n",
       "      <th>requires_license</th>\n",
       "      <th>instant_bookable</th>\n",
       "      <th>cancellation_policy</th>\n",
       "      <th>calculated_host_listings_count</th>\n",
       "      <th>reviews_per_month</th>\n",
       "    </tr>\n",
       "  </thead>\n",
       "  <tbody>\n",
       "    <tr>\n",
       "      <th>0</th>\n",
       "      <td>2818</td>\n",
       "      <td>Quiet Garden View Room &amp; Super Fast WiFi</td>\n",
       "      <td>Quiet Garden View Room &amp; Super Fast WiFi</td>\n",
       "      <td>I'm renting a bedroom (room overlooking the ga...</td>\n",
       "      <td>Quiet Garden View Room &amp; Super Fast WiFi I'm r...</td>\n",
       "      <td>3159</td>\n",
       "      <td>t</td>\n",
       "      <td>1.0</td>\n",
       "      <td>t</td>\n",
       "      <td>f</td>\n",
       "      <td>...</td>\n",
       "      <td>10.0</td>\n",
       "      <td>10.0</td>\n",
       "      <td>10.0</td>\n",
       "      <td>9.0</td>\n",
       "      <td>10.0</td>\n",
       "      <td>f</td>\n",
       "      <td>t</td>\n",
       "      <td>strict_14_with_grace_period</td>\n",
       "      <td>1</td>\n",
       "      <td>2.10</td>\n",
       "    </tr>\n",
       "    <tr>\n",
       "      <th>1</th>\n",
       "      <td>3209</td>\n",
       "      <td>Quiet apt near center, great view</td>\n",
       "      <td>You will love our spacious (90 m2) bright apar...</td>\n",
       "      <td>Our apartment has lots of light, a balcony and...</td>\n",
       "      <td>You will love our spacious (90 m2) bright apar...</td>\n",
       "      <td>3806</td>\n",
       "      <td>f</td>\n",
       "      <td>1.0</td>\n",
       "      <td>t</td>\n",
       "      <td>t</td>\n",
       "      <td>...</td>\n",
       "      <td>9.0</td>\n",
       "      <td>10.0</td>\n",
       "      <td>10.0</td>\n",
       "      <td>9.0</td>\n",
       "      <td>9.0</td>\n",
       "      <td>f</td>\n",
       "      <td>f</td>\n",
       "      <td>moderate</td>\n",
       "      <td>1</td>\n",
       "      <td>1.03</td>\n",
       "    </tr>\n",
       "    <tr>\n",
       "      <th>2</th>\n",
       "      <td>20168</td>\n",
       "      <td>100%Centre-Studio 1 Private Floor/Bathroom</td>\n",
       "      <td>Cozy studio on your own private floor, 100% in...</td>\n",
       "      <td>For those who like all facets of city life. In...</td>\n",
       "      <td>Cozy studio on your own private floor, 100% in...</td>\n",
       "      <td>59484</td>\n",
       "      <td>f</td>\n",
       "      <td>2.0</td>\n",
       "      <td>t</td>\n",
       "      <td>f</td>\n",
       "      <td>...</td>\n",
       "      <td>10.0</td>\n",
       "      <td>9.0</td>\n",
       "      <td>9.0</td>\n",
       "      <td>10.0</td>\n",
       "      <td>9.0</td>\n",
       "      <td>f</td>\n",
       "      <td>f</td>\n",
       "      <td>strict_14_with_grace_period</td>\n",
       "      <td>2</td>\n",
       "      <td>2.18</td>\n",
       "    </tr>\n",
       "    <tr>\n",
       "      <th>3</th>\n",
       "      <td>25428</td>\n",
       "      <td>Lovely apt in City Centre (Jordaan)</td>\n",
       "      <td>NaN</td>\n",
       "      <td>This nicely furnished, newly renovated apt  is...</td>\n",
       "      <td>This nicely furnished, newly renovated apt  is...</td>\n",
       "      <td>56142</td>\n",
       "      <td>f</td>\n",
       "      <td>2.0</td>\n",
       "      <td>t</td>\n",
       "      <td>f</td>\n",
       "      <td>...</td>\n",
       "      <td>10.0</td>\n",
       "      <td>10.0</td>\n",
       "      <td>10.0</td>\n",
       "      <td>10.0</td>\n",
       "      <td>10.0</td>\n",
       "      <td>f</td>\n",
       "      <td>f</td>\n",
       "      <td>strict_14_with_grace_period</td>\n",
       "      <td>2</td>\n",
       "      <td>0.09</td>\n",
       "    </tr>\n",
       "    <tr>\n",
       "      <th>4</th>\n",
       "      <td>27886</td>\n",
       "      <td>Romantic, stylish B&amp;B houseboat in canal district</td>\n",
       "      <td>Stylish and romantic houseboat on fantastic hi...</td>\n",
       "      <td>For a romantic couple: A beautifully restored ...</td>\n",
       "      <td>Stylish and romantic houseboat on fantastic hi...</td>\n",
       "      <td>97647</td>\n",
       "      <td>t</td>\n",
       "      <td>1.0</td>\n",
       "      <td>t</td>\n",
       "      <td>t</td>\n",
       "      <td>...</td>\n",
       "      <td>10.0</td>\n",
       "      <td>10.0</td>\n",
       "      <td>10.0</td>\n",
       "      <td>10.0</td>\n",
       "      <td>10.0</td>\n",
       "      <td>f</td>\n",
       "      <td>t</td>\n",
       "      <td>strict_14_with_grace_period</td>\n",
       "      <td>1</td>\n",
       "      <td>2.03</td>\n",
       "    </tr>\n",
       "  </tbody>\n",
       "</table>\n",
       "<p>5 rows × 47 columns</p>\n",
       "</div>"
      ],
      "text/plain": [
       "      id                                               name  \\\n",
       "0   2818           Quiet Garden View Room & Super Fast WiFi   \n",
       "1   3209                  Quiet apt near center, great view   \n",
       "2  20168         100%Centre-Studio 1 Private Floor/Bathroom   \n",
       "3  25428                Lovely apt in City Centre (Jordaan)   \n",
       "4  27886  Romantic, stylish B&B houseboat in canal district   \n",
       "\n",
       "                                             summary  \\\n",
       "0           Quiet Garden View Room & Super Fast WiFi   \n",
       "1  You will love our spacious (90 m2) bright apar...   \n",
       "2  Cozy studio on your own private floor, 100% in...   \n",
       "3                                                NaN   \n",
       "4  Stylish and romantic houseboat on fantastic hi...   \n",
       "\n",
       "                                               space  \\\n",
       "0  I'm renting a bedroom (room overlooking the ga...   \n",
       "1  Our apartment has lots of light, a balcony and...   \n",
       "2  For those who like all facets of city life. In...   \n",
       "3  This nicely furnished, newly renovated apt  is...   \n",
       "4  For a romantic couple: A beautifully restored ...   \n",
       "\n",
       "                                         description  host_id  \\\n",
       "0  Quiet Garden View Room & Super Fast WiFi I'm r...     3159   \n",
       "1  You will love our spacious (90 m2) bright apar...     3806   \n",
       "2  Cozy studio on your own private floor, 100% in...    59484   \n",
       "3  This nicely furnished, newly renovated apt  is...    56142   \n",
       "4  Stylish and romantic houseboat on fantastic hi...    97647   \n",
       "\n",
       "  host_is_superhost  host_total_listings_count host_has_profile_pic  \\\n",
       "0                 t                        1.0                    t   \n",
       "1                 f                        1.0                    t   \n",
       "2                 f                        2.0                    t   \n",
       "3                 f                        2.0                    t   \n",
       "4                 t                        1.0                    t   \n",
       "\n",
       "  host_identity_verified  ... review_scores_cleanliness review_scores_checkin  \\\n",
       "0                      f  ...                      10.0                  10.0   \n",
       "1                      t  ...                       9.0                  10.0   \n",
       "2                      f  ...                      10.0                   9.0   \n",
       "3                      f  ...                      10.0                  10.0   \n",
       "4                      t  ...                      10.0                  10.0   \n",
       "\n",
       "  review_scores_communication  review_scores_location  review_scores_value  \\\n",
       "0                        10.0                     9.0                 10.0   \n",
       "1                        10.0                     9.0                  9.0   \n",
       "2                         9.0                    10.0                  9.0   \n",
       "3                        10.0                    10.0                 10.0   \n",
       "4                        10.0                    10.0                 10.0   \n",
       "\n",
       "  requires_license instant_bookable          cancellation_policy  \\\n",
       "0                f                t  strict_14_with_grace_period   \n",
       "1                f                f                     moderate   \n",
       "2                f                f  strict_14_with_grace_period   \n",
       "3                f                f  strict_14_with_grace_period   \n",
       "4                f                t  strict_14_with_grace_period   \n",
       "\n",
       "   calculated_host_listings_count  reviews_per_month  \n",
       "0                               1               2.10  \n",
       "1                               1               1.03  \n",
       "2                               2               2.18  \n",
       "3                               2               0.09  \n",
       "4                               1               2.03  \n",
       "\n",
       "[5 rows x 47 columns]"
      ]
     },
     "execution_count": 23,
     "metadata": {},
     "output_type": "execute_result"
    }
   ],
   "source": [
    "lis_details.head()"
   ]
  },
  {
   "cell_type": "code",
   "execution_count": 24,
   "id": "239a2a66",
   "metadata": {},
   "outputs": [
    {
     "name": "stdout",
     "output_type": "stream",
     "text": [
      "<class 'pandas.core.frame.DataFrame'>\n",
      "RangeIndex: 20030 entries, 0 to 20029\n",
      "Data columns (total 47 columns):\n",
      " #   Column                          Non-Null Count  Dtype  \n",
      "---  ------                          --------------  -----  \n",
      " 0   id                              20030 non-null  int64  \n",
      " 1   name                            19992 non-null  object \n",
      " 2   summary                         19510 non-null  object \n",
      " 3   space                           14579 non-null  object \n",
      " 4   description                     19906 non-null  object \n",
      " 5   host_id                         20030 non-null  int64  \n",
      " 6   host_is_superhost               20026 non-null  object \n",
      " 7   host_total_listings_count       20026 non-null  float64\n",
      " 8   host_has_profile_pic            20026 non-null  object \n",
      " 9   host_identity_verified          20026 non-null  object \n",
      " 10  neighbourhood                   18377 non-null  object \n",
      " 11  neighbourhood_cleansed          20030 non-null  object \n",
      " 12  country                         20030 non-null  object \n",
      " 13  latitude                        20030 non-null  float64\n",
      " 14  longitude                       20030 non-null  float64\n",
      " 15  property_type                   20030 non-null  object \n",
      " 16  room_type                       20030 non-null  object \n",
      " 17  accommodates                    20030 non-null  int64  \n",
      " 18  bathrooms                       20020 non-null  float64\n",
      " 19  bedrooms                        20022 non-null  float64\n",
      " 20  beds                            20023 non-null  float64\n",
      " 21  bed_type                        20030 non-null  object \n",
      " 22  amenities                       20030 non-null  object \n",
      " 23  price                           20030 non-null  object \n",
      " 24  guests_included                 20030 non-null  int64  \n",
      " 25  extra_people                    20030 non-null  object \n",
      " 26  minimum_nights                  20030 non-null  int64  \n",
      " 27  maximum_nights                  20030 non-null  int64  \n",
      " 28  calendar_updated                20030 non-null  object \n",
      " 29  has_availability                20030 non-null  object \n",
      " 30  availability_30                 20030 non-null  int64  \n",
      " 31  availability_60                 20030 non-null  int64  \n",
      " 32  availability_90                 20030 non-null  int64  \n",
      " 33  availability_365                20030 non-null  int64  \n",
      " 34  number_of_reviews               20030 non-null  int64  \n",
      " 35  review_scores_rating            17391 non-null  float64\n",
      " 36  review_scores_accuracy          17381 non-null  float64\n",
      " 37  review_scores_cleanliness       17383 non-null  float64\n",
      " 38  review_scores_checkin           17369 non-null  float64\n",
      " 39  review_scores_communication     17378 non-null  float64\n",
      " 40  review_scores_location          17370 non-null  float64\n",
      " 41  review_scores_value             17371 non-null  float64\n",
      " 42  requires_license                20030 non-null  object \n",
      " 43  instant_bookable                20030 non-null  object \n",
      " 44  cancellation_policy             20030 non-null  object \n",
      " 45  calculated_host_listings_count  20030 non-null  int64  \n",
      " 46  reviews_per_month               17624 non-null  float64\n",
      "dtypes: float64(14), int64(12), object(21)\n",
      "memory usage: 7.2+ MB\n"
     ]
    }
   ],
   "source": [
    "lis_details.info()"
   ]
  },
  {
   "cell_type": "code",
   "execution_count": 25,
   "id": "9498353b",
   "metadata": {},
   "outputs": [],
   "source": [
    "# Dropping Unnecessary Columns:\n",
    "listings = lis_details.drop(columns = ['description','bathrooms','space','host_has_profile_pic','host_identity_verified','neighbourhood','country','calendar_updated','has_availability','extra_people','availability_30','availability_60','availability_90','requires_license','cancellation_policy','calculated_host_listings_count','host_total_listings_count','review_scores_accuracy','review_scores_cleanliness','review_scores_checkin','review_scores_communication'])\n"
   ]
  },
  {
   "cell_type": "code",
   "execution_count": 26,
   "id": "4140cdfd",
   "metadata": {},
   "outputs": [
    {
     "name": "stdout",
     "output_type": "stream",
     "text": [
      "name\n",
      "summary\n",
      "host_is_superhost\n"
     ]
    },
    {
     "name": "stderr",
     "output_type": "stream",
     "text": [
      "C:\\Users\\mojos\\AppData\\Local\\Temp\\ipykernel_20984\\532259557.py:3: FutureWarning: DataFrame.applymap has been deprecated. Use DataFrame.map instead.\n",
      "  weird = (listings[[col]].applymap(type) != listings[[col]].iloc[0].apply(type)).any(axis=1)\n",
      "C:\\Users\\mojos\\AppData\\Local\\Temp\\ipykernel_20984\\532259557.py:3: FutureWarning: DataFrame.applymap has been deprecated. Use DataFrame.map instead.\n",
      "  weird = (listings[[col]].applymap(type) != listings[[col]].iloc[0].apply(type)).any(axis=1)\n",
      "C:\\Users\\mojos\\AppData\\Local\\Temp\\ipykernel_20984\\532259557.py:3: FutureWarning: DataFrame.applymap has been deprecated. Use DataFrame.map instead.\n",
      "  weird = (listings[[col]].applymap(type) != listings[[col]].iloc[0].apply(type)).any(axis=1)\n",
      "C:\\Users\\mojos\\AppData\\Local\\Temp\\ipykernel_20984\\532259557.py:3: FutureWarning: DataFrame.applymap has been deprecated. Use DataFrame.map instead.\n",
      "  weird = (listings[[col]].applymap(type) != listings[[col]].iloc[0].apply(type)).any(axis=1)\n",
      "C:\\Users\\mojos\\AppData\\Local\\Temp\\ipykernel_20984\\532259557.py:3: FutureWarning: DataFrame.applymap has been deprecated. Use DataFrame.map instead.\n",
      "  weird = (listings[[col]].applymap(type) != listings[[col]].iloc[0].apply(type)).any(axis=1)\n",
      "C:\\Users\\mojos\\AppData\\Local\\Temp\\ipykernel_20984\\532259557.py:3: FutureWarning: DataFrame.applymap has been deprecated. Use DataFrame.map instead.\n",
      "  weird = (listings[[col]].applymap(type) != listings[[col]].iloc[0].apply(type)).any(axis=1)\n",
      "C:\\Users\\mojos\\AppData\\Local\\Temp\\ipykernel_20984\\532259557.py:3: FutureWarning: DataFrame.applymap has been deprecated. Use DataFrame.map instead.\n",
      "  weird = (listings[[col]].applymap(type) != listings[[col]].iloc[0].apply(type)).any(axis=1)\n",
      "C:\\Users\\mojos\\AppData\\Local\\Temp\\ipykernel_20984\\532259557.py:3: FutureWarning: DataFrame.applymap has been deprecated. Use DataFrame.map instead.\n",
      "  weird = (listings[[col]].applymap(type) != listings[[col]].iloc[0].apply(type)).any(axis=1)\n",
      "C:\\Users\\mojos\\AppData\\Local\\Temp\\ipykernel_20984\\532259557.py:3: FutureWarning: DataFrame.applymap has been deprecated. Use DataFrame.map instead.\n",
      "  weird = (listings[[col]].applymap(type) != listings[[col]].iloc[0].apply(type)).any(axis=1)\n",
      "C:\\Users\\mojos\\AppData\\Local\\Temp\\ipykernel_20984\\532259557.py:3: FutureWarning: DataFrame.applymap has been deprecated. Use DataFrame.map instead.\n",
      "  weird = (listings[[col]].applymap(type) != listings[[col]].iloc[0].apply(type)).any(axis=1)\n",
      "C:\\Users\\mojos\\AppData\\Local\\Temp\\ipykernel_20984\\532259557.py:3: FutureWarning: DataFrame.applymap has been deprecated. Use DataFrame.map instead.\n",
      "  weird = (listings[[col]].applymap(type) != listings[[col]].iloc[0].apply(type)).any(axis=1)\n",
      "C:\\Users\\mojos\\AppData\\Local\\Temp\\ipykernel_20984\\532259557.py:3: FutureWarning: DataFrame.applymap has been deprecated. Use DataFrame.map instead.\n",
      "  weird = (listings[[col]].applymap(type) != listings[[col]].iloc[0].apply(type)).any(axis=1)\n",
      "C:\\Users\\mojos\\AppData\\Local\\Temp\\ipykernel_20984\\532259557.py:3: FutureWarning: DataFrame.applymap has been deprecated. Use DataFrame.map instead.\n",
      "  weird = (listings[[col]].applymap(type) != listings[[col]].iloc[0].apply(type)).any(axis=1)\n",
      "C:\\Users\\mojos\\AppData\\Local\\Temp\\ipykernel_20984\\532259557.py:3: FutureWarning: DataFrame.applymap has been deprecated. Use DataFrame.map instead.\n",
      "  weird = (listings[[col]].applymap(type) != listings[[col]].iloc[0].apply(type)).any(axis=1)\n",
      "C:\\Users\\mojos\\AppData\\Local\\Temp\\ipykernel_20984\\532259557.py:3: FutureWarning: DataFrame.applymap has been deprecated. Use DataFrame.map instead.\n",
      "  weird = (listings[[col]].applymap(type) != listings[[col]].iloc[0].apply(type)).any(axis=1)\n",
      "C:\\Users\\mojos\\AppData\\Local\\Temp\\ipykernel_20984\\532259557.py:3: FutureWarning: DataFrame.applymap has been deprecated. Use DataFrame.map instead.\n",
      "  weird = (listings[[col]].applymap(type) != listings[[col]].iloc[0].apply(type)).any(axis=1)\n",
      "C:\\Users\\mojos\\AppData\\Local\\Temp\\ipykernel_20984\\532259557.py:3: FutureWarning: DataFrame.applymap has been deprecated. Use DataFrame.map instead.\n",
      "  weird = (listings[[col]].applymap(type) != listings[[col]].iloc[0].apply(type)).any(axis=1)\n",
      "C:\\Users\\mojos\\AppData\\Local\\Temp\\ipykernel_20984\\532259557.py:3: FutureWarning: DataFrame.applymap has been deprecated. Use DataFrame.map instead.\n",
      "  weird = (listings[[col]].applymap(type) != listings[[col]].iloc[0].apply(type)).any(axis=1)\n",
      "C:\\Users\\mojos\\AppData\\Local\\Temp\\ipykernel_20984\\532259557.py:3: FutureWarning: DataFrame.applymap has been deprecated. Use DataFrame.map instead.\n",
      "  weird = (listings[[col]].applymap(type) != listings[[col]].iloc[0].apply(type)).any(axis=1)\n",
      "C:\\Users\\mojos\\AppData\\Local\\Temp\\ipykernel_20984\\532259557.py:3: FutureWarning: DataFrame.applymap has been deprecated. Use DataFrame.map instead.\n",
      "  weird = (listings[[col]].applymap(type) != listings[[col]].iloc[0].apply(type)).any(axis=1)\n",
      "C:\\Users\\mojos\\AppData\\Local\\Temp\\ipykernel_20984\\532259557.py:3: FutureWarning: DataFrame.applymap has been deprecated. Use DataFrame.map instead.\n",
      "  weird = (listings[[col]].applymap(type) != listings[[col]].iloc[0].apply(type)).any(axis=1)\n",
      "C:\\Users\\mojos\\AppData\\Local\\Temp\\ipykernel_20984\\532259557.py:3: FutureWarning: DataFrame.applymap has been deprecated. Use DataFrame.map instead.\n",
      "  weird = (listings[[col]].applymap(type) != listings[[col]].iloc[0].apply(type)).any(axis=1)\n",
      "C:\\Users\\mojos\\AppData\\Local\\Temp\\ipykernel_20984\\532259557.py:3: FutureWarning: DataFrame.applymap has been deprecated. Use DataFrame.map instead.\n",
      "  weird = (listings[[col]].applymap(type) != listings[[col]].iloc[0].apply(type)).any(axis=1)\n",
      "C:\\Users\\mojos\\AppData\\Local\\Temp\\ipykernel_20984\\532259557.py:3: FutureWarning: DataFrame.applymap has been deprecated. Use DataFrame.map instead.\n",
      "  weird = (listings[[col]].applymap(type) != listings[[col]].iloc[0].apply(type)).any(axis=1)\n",
      "C:\\Users\\mojos\\AppData\\Local\\Temp\\ipykernel_20984\\532259557.py:3: FutureWarning: DataFrame.applymap has been deprecated. Use DataFrame.map instead.\n",
      "  weird = (listings[[col]].applymap(type) != listings[[col]].iloc[0].apply(type)).any(axis=1)\n",
      "C:\\Users\\mojos\\AppData\\Local\\Temp\\ipykernel_20984\\532259557.py:3: FutureWarning: DataFrame.applymap has been deprecated. Use DataFrame.map instead.\n",
      "  weird = (listings[[col]].applymap(type) != listings[[col]].iloc[0].apply(type)).any(axis=1)\n"
     ]
    }
   ],
   "source": [
    "#Checking for mixed Data Types\n",
    "for col in listings.columns.tolist():\n",
    "    weird = (listings[[col]].applymap(type) != listings[[col]].iloc[0].apply(type)).any(axis=1)\n",
    "    if len (listings[weird]) > 0:\n",
    "        print(col)"
   ]
  },
  {
   "cell_type": "code",
   "execution_count": 27,
   "id": "e2a1ac98",
   "metadata": {},
   "outputs": [
    {
     "name": "stdout",
     "output_type": "stream",
     "text": [
      "<class 'pandas.core.frame.DataFrame'>\n",
      "RangeIndex: 20030 entries, 0 to 20029\n",
      "Data columns (total 26 columns):\n",
      " #   Column                  Non-Null Count  Dtype  \n",
      "---  ------                  --------------  -----  \n",
      " 0   id                      20030 non-null  object \n",
      " 1   name                    20030 non-null  object \n",
      " 2   summary                 20030 non-null  object \n",
      " 3   host_id                 20030 non-null  object \n",
      " 4   host_is_superhost       20030 non-null  object \n",
      " 5   neighbourhood_cleansed  20030 non-null  object \n",
      " 6   latitude                20030 non-null  float64\n",
      " 7   longitude               20030 non-null  float64\n",
      " 8   property_type           20030 non-null  object \n",
      " 9   room_type               20030 non-null  object \n",
      " 10  accommodates            20030 non-null  int64  \n",
      " 11  bedrooms                20022 non-null  float64\n",
      " 12  beds                    20023 non-null  float64\n",
      " 13  bed_type                20030 non-null  object \n",
      " 14  amenities               20030 non-null  object \n",
      " 15  price                   20030 non-null  float64\n",
      " 16  guests_included         20030 non-null  int64  \n",
      " 17  minimum_nights          20030 non-null  int64  \n",
      " 18  maximum_nights          20030 non-null  int64  \n",
      " 19  availability_365        20030 non-null  int64  \n",
      " 20  number_of_reviews       20030 non-null  int64  \n",
      " 21  review_scores_rating    17391 non-null  float64\n",
      " 22  review_scores_location  17370 non-null  float64\n",
      " 23  review_scores_value     17371 non-null  float64\n",
      " 24  instant_bookable        20030 non-null  object \n",
      " 25  reviews_per_month       17624 non-null  float64\n",
      "dtypes: float64(9), int64(6), object(11)\n",
      "memory usage: 4.0+ MB\n"
     ]
    }
   ],
   "source": [
    "#Updating special character formatting in prices in the same vein as the 'calendar' file above\n",
    "\n",
    "listings['price'] = remove_hyphen(listings['price'])\n",
    "listings['price'] = remove_comma(listings['price'])\n",
    "\n",
    "#Correcting Data Types\n",
    "\n",
    "listings['id'] = listings['id'].astype('str')\n",
    "listings['host_id'] = listings['host_id'].astype('str')\n",
    "listings['price'] = listings['price'].astype('float')\n",
    "listings['name'] = listings['name'].astype('str')\n",
    "listings['summary'] = listings['summary'].astype('str')\n",
    "listings['host_is_superhost'] = listings['host_is_superhost'].astype('str')\n",
    "listings.info()"
   ]
  },
  {
   "cell_type": "code",
   "execution_count": 28,
   "id": "2cfee1cc",
   "metadata": {},
   "outputs": [
    {
     "data": {
      "text/plain": [
       "id                           0\n",
       "name                         0\n",
       "summary                      0\n",
       "host_id                      0\n",
       "host_is_superhost            0\n",
       "neighbourhood_cleansed       0\n",
       "latitude                     0\n",
       "longitude                    0\n",
       "property_type                0\n",
       "room_type                    0\n",
       "accommodates                 0\n",
       "bedrooms                     8\n",
       "beds                         7\n",
       "bed_type                     0\n",
       "amenities                    0\n",
       "price                        0\n",
       "guests_included              0\n",
       "minimum_nights               0\n",
       "maximum_nights               0\n",
       "availability_365             0\n",
       "number_of_reviews            0\n",
       "review_scores_rating      2639\n",
       "review_scores_location    2660\n",
       "review_scores_value       2659\n",
       "instant_bookable             0\n",
       "reviews_per_month         2406\n",
       "dtype: int64"
      ]
     },
     "execution_count": 28,
     "metadata": {},
     "output_type": "execute_result"
    }
   ],
   "source": [
    "listings.isnull().sum()"
   ]
  },
  {
   "cell_type": "markdown",
   "id": "e9be0934",
   "metadata": {},
   "source": [
    "#### Creating a flag for listings which are missing review scores - I don't want to outright delete any missing values - Listings which don't have reviews will ofcourse be removed for review based analysis, however, overall listing details can still be used to assess neighbourhood pricing & availability analysis as outlined in the project overview doc.\n",
    "\n",
    "#### If we were to outright remove these listings from analysis, we would have lost over 10% of the available data\n"
   ]
  },
  {
   "cell_type": "code",
   "execution_count": 29,
   "id": "b2797425",
   "metadata": {},
   "outputs": [
    {
     "data": {
      "text/plain": [
       "rated\n",
       "True     17391\n",
       "False     2639\n",
       "Name: count, dtype: int64"
      ]
     },
     "execution_count": 29,
     "metadata": {},
     "output_type": "execute_result"
    }
   ],
   "source": [
    "listings['rated'] = np.where(np.isnan(listings['review_scores_rating'].values),'False','True')\n",
    "\n",
    "#validating new column\n",
    "listings['rated'].value_counts(dropna = False)"
   ]
  },
  {
   "cell_type": "code",
   "execution_count": 30,
   "id": "32d52f77",
   "metadata": {},
   "outputs": [
    {
     "data": {
      "text/plain": [
       "(20016, 27)"
      ]
     },
     "execution_count": 30,
     "metadata": {},
     "output_type": "execute_result"
    }
   ],
   "source": [
    "##removing the 8 x nan Bedroom values & the nan beds\n",
    "listings_2 = listings[listings['bedrooms'].isnull()==False]\n",
    "listings_3 = listings_2[listings_2['beds'].isnull()==False]\n",
    "listings_3.shape"
   ]
  },
  {
   "cell_type": "code",
   "execution_count": 31,
   "id": "b2d39327",
   "metadata": {},
   "outputs": [
    {
     "data": {
      "text/plain": [
       "id                           0\n",
       "name                         0\n",
       "summary                      0\n",
       "host_id                      0\n",
       "host_is_superhost            0\n",
       "neighbourhood_cleansed       0\n",
       "latitude                     0\n",
       "longitude                    0\n",
       "property_type                0\n",
       "room_type                    0\n",
       "accommodates                 0\n",
       "bedrooms                     0\n",
       "beds                         0\n",
       "bed_type                     0\n",
       "amenities                    0\n",
       "price                        0\n",
       "guests_included              0\n",
       "minimum_nights               0\n",
       "maximum_nights               0\n",
       "availability_365             0\n",
       "number_of_reviews            0\n",
       "review_scores_rating      2637\n",
       "review_scores_location    2658\n",
       "review_scores_value       2657\n",
       "instant_bookable             0\n",
       "reviews_per_month         2404\n",
       "rated                        0\n",
       "dtype: int64"
      ]
     },
     "execution_count": 31,
     "metadata": {},
     "output_type": "execute_result"
    }
   ],
   "source": [
    "listings_3.isnull().sum()"
   ]
  },
  {
   "cell_type": "code",
   "execution_count": 32,
   "id": "387e880b",
   "metadata": {},
   "outputs": [
    {
     "data": {
      "text/plain": [
       "(17379, 27)"
      ]
     },
     "execution_count": 32,
     "metadata": {},
     "output_type": "execute_result"
    }
   ],
   "source": [
    "#Subsetting the result, so that we are only reviewing listings which have been reviewed, and can there for be assessed:\n",
    "listings_reviewed =  listings_3[listings_3['rated']=='True']\n",
    "listings_reviewed.shape"
   ]
  },
  {
   "cell_type": "code",
   "execution_count": 33,
   "id": "8010fb47",
   "metadata": {},
   "outputs": [
    {
     "data": {
      "text/plain": [
       "id                         0\n",
       "name                       0\n",
       "summary                    0\n",
       "host_id                    0\n",
       "host_is_superhost          0\n",
       "neighbourhood_cleansed     0\n",
       "latitude                   0\n",
       "longitude                  0\n",
       "property_type              0\n",
       "room_type                  0\n",
       "accommodates               0\n",
       "bedrooms                   0\n",
       "beds                       0\n",
       "bed_type                   0\n",
       "amenities                  0\n",
       "price                      0\n",
       "guests_included            0\n",
       "minimum_nights             0\n",
       "maximum_nights             0\n",
       "availability_365           0\n",
       "number_of_reviews          0\n",
       "review_scores_rating       0\n",
       "review_scores_location    22\n",
       "review_scores_value       21\n",
       "instant_bookable           0\n",
       "reviews_per_month          0\n",
       "rated                      0\n",
       "dtype: int64"
      ]
     },
     "execution_count": 33,
     "metadata": {},
     "output_type": "execute_result"
    }
   ],
   "source": [
    "listings_reviewed.isnull().sum()"
   ]
  },
  {
   "cell_type": "code",
   "execution_count": 34,
   "id": "bcc72fd2",
   "metadata": {},
   "outputs": [
    {
     "data": {
      "text/html": [
       "<div>\n",
       "<style scoped>\n",
       "    .dataframe tbody tr th:only-of-type {\n",
       "        vertical-align: middle;\n",
       "    }\n",
       "\n",
       "    .dataframe tbody tr th {\n",
       "        vertical-align: top;\n",
       "    }\n",
       "\n",
       "    .dataframe thead th {\n",
       "        text-align: right;\n",
       "    }\n",
       "</style>\n",
       "<table border=\"1\" class=\"dataframe\">\n",
       "  <thead>\n",
       "    <tr style=\"text-align: right;\">\n",
       "      <th></th>\n",
       "      <th>id</th>\n",
       "      <th>name</th>\n",
       "      <th>summary</th>\n",
       "      <th>host_id</th>\n",
       "      <th>host_is_superhost</th>\n",
       "      <th>neighbourhood_cleansed</th>\n",
       "      <th>latitude</th>\n",
       "      <th>longitude</th>\n",
       "      <th>property_type</th>\n",
       "      <th>room_type</th>\n",
       "      <th>...</th>\n",
       "      <th>minimum_nights</th>\n",
       "      <th>maximum_nights</th>\n",
       "      <th>availability_365</th>\n",
       "      <th>number_of_reviews</th>\n",
       "      <th>review_scores_rating</th>\n",
       "      <th>review_scores_location</th>\n",
       "      <th>review_scores_value</th>\n",
       "      <th>instant_bookable</th>\n",
       "      <th>reviews_per_month</th>\n",
       "      <th>rated</th>\n",
       "    </tr>\n",
       "  </thead>\n",
       "  <tbody>\n",
       "    <tr>\n",
       "      <th>3803</th>\n",
       "      <td>6344284</td>\n",
       "      <td>Cozy Amsterdam Apartment For Two</td>\n",
       "      <td>We offer our nice &amp; cozy apartment in the cent...</td>\n",
       "      <td>19364602</td>\n",
       "      <td>f</td>\n",
       "      <td>Westerpark</td>\n",
       "      <td>52.387509</td>\n",
       "      <td>4.880308</td>\n",
       "      <td>Apartment</td>\n",
       "      <td>Entire home/apt</td>\n",
       "      <td>...</td>\n",
       "      <td>3</td>\n",
       "      <td>1125</td>\n",
       "      <td>0</td>\n",
       "      <td>1</td>\n",
       "      <td>80.0</td>\n",
       "      <td>NaN</td>\n",
       "      <td>NaN</td>\n",
       "      <td>f</td>\n",
       "      <td>0.02</td>\n",
       "      <td>True</td>\n",
       "    </tr>\n",
       "    <tr>\n",
       "      <th>6208</th>\n",
       "      <td>10137549</td>\n",
       "      <td>Spacious apartment in city centre</td>\n",
       "      <td>Lovely apartment in the upcoming neighborhood ...</td>\n",
       "      <td>14118176</td>\n",
       "      <td>f</td>\n",
       "      <td>De Baarsjes - Oud-West</td>\n",
       "      <td>52.369193</td>\n",
       "      <td>4.860728</td>\n",
       "      <td>Apartment</td>\n",
       "      <td>Entire home/apt</td>\n",
       "      <td>...</td>\n",
       "      <td>2</td>\n",
       "      <td>1125</td>\n",
       "      <td>0</td>\n",
       "      <td>1</td>\n",
       "      <td>100.0</td>\n",
       "      <td>NaN</td>\n",
       "      <td>NaN</td>\n",
       "      <td>f</td>\n",
       "      <td>0.03</td>\n",
       "      <td>True</td>\n",
       "    </tr>\n",
       "    <tr>\n",
       "      <th>6365</th>\n",
       "      <td>10489911</td>\n",
       "      <td>Luxury apartment in \"Rivierenbuurt\"</td>\n",
       "      <td>Beautiful new apartment with rooftop terrace. ...</td>\n",
       "      <td>22928421</td>\n",
       "      <td>f</td>\n",
       "      <td>De Pijp - Rivierenbuurt</td>\n",
       "      <td>52.343758</td>\n",
       "      <td>4.906487</td>\n",
       "      <td>Apartment</td>\n",
       "      <td>Entire home/apt</td>\n",
       "      <td>...</td>\n",
       "      <td>2</td>\n",
       "      <td>21</td>\n",
       "      <td>0</td>\n",
       "      <td>1</td>\n",
       "      <td>100.0</td>\n",
       "      <td>NaN</td>\n",
       "      <td>NaN</td>\n",
       "      <td>f</td>\n",
       "      <td>0.04</td>\n",
       "      <td>True</td>\n",
       "    </tr>\n",
       "    <tr>\n",
       "      <th>6817</th>\n",
       "      <td>11486321</td>\n",
       "      <td>Renovated apartement</td>\n",
       "      <td>I just renovated my appartement to a double be...</td>\n",
       "      <td>3256150</td>\n",
       "      <td>f</td>\n",
       "      <td>Zuid</td>\n",
       "      <td>52.345079</td>\n",
       "      <td>4.861024</td>\n",
       "      <td>Apartment</td>\n",
       "      <td>Entire home/apt</td>\n",
       "      <td>...</td>\n",
       "      <td>2</td>\n",
       "      <td>1125</td>\n",
       "      <td>11</td>\n",
       "      <td>1</td>\n",
       "      <td>80.0</td>\n",
       "      <td>NaN</td>\n",
       "      <td>NaN</td>\n",
       "      <td>f</td>\n",
       "      <td>0.05</td>\n",
       "      <td>True</td>\n",
       "    </tr>\n",
       "    <tr>\n",
       "      <th>6980</th>\n",
       "      <td>11732452</td>\n",
       "      <td>Comfortable Jordaan appartment</td>\n",
       "      <td>Cosy 64m2 appartment located in the heart of t...</td>\n",
       "      <td>62403836</td>\n",
       "      <td>f</td>\n",
       "      <td>Centrum-West</td>\n",
       "      <td>52.378056</td>\n",
       "      <td>4.883645</td>\n",
       "      <td>Apartment</td>\n",
       "      <td>Private room</td>\n",
       "      <td>...</td>\n",
       "      <td>1</td>\n",
       "      <td>1125</td>\n",
       "      <td>0</td>\n",
       "      <td>7</td>\n",
       "      <td>80.0</td>\n",
       "      <td>NaN</td>\n",
       "      <td>NaN</td>\n",
       "      <td>t</td>\n",
       "      <td>0.22</td>\n",
       "      <td>True</td>\n",
       "    </tr>\n",
       "    <tr>\n",
       "      <th>8330</th>\n",
       "      <td>13576855</td>\n",
       "      <td>Cozy Room close to the City Centre</td>\n",
       "      <td>Welcome to our amazing and sunny apartment, in...</td>\n",
       "      <td>37158057</td>\n",
       "      <td>f</td>\n",
       "      <td>De Baarsjes - Oud-West</td>\n",
       "      <td>52.368478</td>\n",
       "      <td>4.865663</td>\n",
       "      <td>Apartment</td>\n",
       "      <td>Private room</td>\n",
       "      <td>...</td>\n",
       "      <td>1</td>\n",
       "      <td>1125</td>\n",
       "      <td>0</td>\n",
       "      <td>2</td>\n",
       "      <td>100.0</td>\n",
       "      <td>8.0</td>\n",
       "      <td>NaN</td>\n",
       "      <td>f</td>\n",
       "      <td>0.07</td>\n",
       "      <td>True</td>\n",
       "    </tr>\n",
       "    <tr>\n",
       "      <th>8795</th>\n",
       "      <td>13955824</td>\n",
       "      <td>Authentic cozy home in Amsterdam North</td>\n",
       "      <td>Our authentic &amp; cozy home is perfectly suited ...</td>\n",
       "      <td>83110320</td>\n",
       "      <td>f</td>\n",
       "      <td>Oud-Noord</td>\n",
       "      <td>52.391086</td>\n",
       "      <td>4.908351</td>\n",
       "      <td>House</td>\n",
       "      <td>Entire home/apt</td>\n",
       "      <td>...</td>\n",
       "      <td>3</td>\n",
       "      <td>4</td>\n",
       "      <td>0</td>\n",
       "      <td>1</td>\n",
       "      <td>100.0</td>\n",
       "      <td>NaN</td>\n",
       "      <td>10.0</td>\n",
       "      <td>f</td>\n",
       "      <td>0.04</td>\n",
       "      <td>True</td>\n",
       "    </tr>\n",
       "    <tr>\n",
       "      <th>8931</th>\n",
       "      <td>14067949</td>\n",
       "      <td>120m2. Third floor+attic. Cosy.</td>\n",
       "      <td>Near Zuid WTC, Amsterdamse bos (biggest park o...</td>\n",
       "      <td>84478994</td>\n",
       "      <td>f</td>\n",
       "      <td>Buitenveldert - Zuidas</td>\n",
       "      <td>52.324447</td>\n",
       "      <td>4.873010</td>\n",
       "      <td>Apartment</td>\n",
       "      <td>Entire home/apt</td>\n",
       "      <td>...</td>\n",
       "      <td>7</td>\n",
       "      <td>15</td>\n",
       "      <td>0</td>\n",
       "      <td>1</td>\n",
       "      <td>100.0</td>\n",
       "      <td>NaN</td>\n",
       "      <td>10.0</td>\n",
       "      <td>f</td>\n",
       "      <td>0.04</td>\n",
       "      <td>True</td>\n",
       "    </tr>\n",
       "    <tr>\n",
       "      <th>9079</th>\n",
       "      <td>14210563</td>\n",
       "      <td>Spacious apartment near the Amsterdam Rai</td>\n",
       "      <td>This large apartment has all the comfort neede...</td>\n",
       "      <td>86272777</td>\n",
       "      <td>f</td>\n",
       "      <td>De Pijp - Rivierenbuurt</td>\n",
       "      <td>52.345316</td>\n",
       "      <td>4.891995</td>\n",
       "      <td>Apartment</td>\n",
       "      <td>Entire home/apt</td>\n",
       "      <td>...</td>\n",
       "      <td>2</td>\n",
       "      <td>1125</td>\n",
       "      <td>0</td>\n",
       "      <td>1</td>\n",
       "      <td>100.0</td>\n",
       "      <td>NaN</td>\n",
       "      <td>NaN</td>\n",
       "      <td>f</td>\n",
       "      <td>0.04</td>\n",
       "      <td>True</td>\n",
       "    </tr>\n",
       "    <tr>\n",
       "      <th>9147</th>\n",
       "      <td>14275520</td>\n",
       "      <td>Family home with garden on canal in Amsterdam</td>\n",
       "      <td>Nice family home in Amsterdam with canal garde...</td>\n",
       "      <td>19121390</td>\n",
       "      <td>f</td>\n",
       "      <td>IJburg - Zeeburgereiland</td>\n",
       "      <td>52.352625</td>\n",
       "      <td>5.006623</td>\n",
       "      <td>House</td>\n",
       "      <td>Entire home/apt</td>\n",
       "      <td>...</td>\n",
       "      <td>4</td>\n",
       "      <td>21</td>\n",
       "      <td>0</td>\n",
       "      <td>1</td>\n",
       "      <td>80.0</td>\n",
       "      <td>NaN</td>\n",
       "      <td>NaN</td>\n",
       "      <td>f</td>\n",
       "      <td>0.04</td>\n",
       "      <td>True</td>\n",
       "    </tr>\n",
       "    <tr>\n",
       "      <th>9785</th>\n",
       "      <td>15279481</td>\n",
       "      <td>Cozy room with convenient public transportation</td>\n",
       "      <td>It is a raw house with convenient public trans...</td>\n",
       "      <td>66026889</td>\n",
       "      <td>f</td>\n",
       "      <td>Gaasperdam - Driemond</td>\n",
       "      <td>52.297613</td>\n",
       "      <td>4.994682</td>\n",
       "      <td>Townhouse</td>\n",
       "      <td>Private room</td>\n",
       "      <td>...</td>\n",
       "      <td>1</td>\n",
       "      <td>1125</td>\n",
       "      <td>0</td>\n",
       "      <td>2</td>\n",
       "      <td>100.0</td>\n",
       "      <td>NaN</td>\n",
       "      <td>NaN</td>\n",
       "      <td>f</td>\n",
       "      <td>0.08</td>\n",
       "      <td>True</td>\n",
       "    </tr>\n",
       "    <tr>\n",
       "      <th>10461</th>\n",
       "      <td>16284951</td>\n",
       "      <td>Simple style, lovely location.</td>\n",
       "      <td>My place is located in a vibrant part of the c...</td>\n",
       "      <td>12452138</td>\n",
       "      <td>f</td>\n",
       "      <td>Zuid</td>\n",
       "      <td>52.352601</td>\n",
       "      <td>4.855254</td>\n",
       "      <td>Apartment</td>\n",
       "      <td>Private room</td>\n",
       "      <td>...</td>\n",
       "      <td>1</td>\n",
       "      <td>2</td>\n",
       "      <td>0</td>\n",
       "      <td>1</td>\n",
       "      <td>100.0</td>\n",
       "      <td>NaN</td>\n",
       "      <td>NaN</td>\n",
       "      <td>t</td>\n",
       "      <td>0.04</td>\n",
       "      <td>True</td>\n",
       "    </tr>\n",
       "    <tr>\n",
       "      <th>10941</th>\n",
       "      <td>17018334</td>\n",
       "      <td>Penthouse with view of Amsterdam's skyline</td>\n",
       "      <td>Comfortable and very bright penthouse apartmen...</td>\n",
       "      <td>93115751</td>\n",
       "      <td>f</td>\n",
       "      <td>Bos en Lommer</td>\n",
       "      <td>52.377862</td>\n",
       "      <td>4.847506</td>\n",
       "      <td>House</td>\n",
       "      <td>Entire home/apt</td>\n",
       "      <td>...</td>\n",
       "      <td>14</td>\n",
       "      <td>1125</td>\n",
       "      <td>0</td>\n",
       "      <td>1</td>\n",
       "      <td>60.0</td>\n",
       "      <td>NaN</td>\n",
       "      <td>NaN</td>\n",
       "      <td>t</td>\n",
       "      <td>0.04</td>\n",
       "      <td>True</td>\n",
       "    </tr>\n",
       "    <tr>\n",
       "      <th>12685</th>\n",
       "      <td>19310618</td>\n",
       "      <td>A place beyond believe</td>\n",
       "      <td>Cosy home full with colours and home made art....</td>\n",
       "      <td>55156995</td>\n",
       "      <td>f</td>\n",
       "      <td>Noord-West</td>\n",
       "      <td>52.415900</td>\n",
       "      <td>4.883895</td>\n",
       "      <td>House</td>\n",
       "      <td>Entire home/apt</td>\n",
       "      <td>...</td>\n",
       "      <td>4</td>\n",
       "      <td>7</td>\n",
       "      <td>339</td>\n",
       "      <td>2</td>\n",
       "      <td>100.0</td>\n",
       "      <td>NaN</td>\n",
       "      <td>NaN</td>\n",
       "      <td>t</td>\n",
       "      <td>0.12</td>\n",
       "      <td>True</td>\n",
       "    </tr>\n",
       "    <tr>\n",
       "      <th>12772</th>\n",
       "      <td>19410652</td>\n",
       "      <td>Spacious bohemian apartment</td>\n",
       "      <td>The apartment is perfect for four persons. It ...</td>\n",
       "      <td>16767789</td>\n",
       "      <td>f</td>\n",
       "      <td>Oud-Oost</td>\n",
       "      <td>52.360264</td>\n",
       "      <td>4.914693</td>\n",
       "      <td>Apartment</td>\n",
       "      <td>Entire home/apt</td>\n",
       "      <td>...</td>\n",
       "      <td>7</td>\n",
       "      <td>13</td>\n",
       "      <td>0</td>\n",
       "      <td>2</td>\n",
       "      <td>100.0</td>\n",
       "      <td>NaN</td>\n",
       "      <td>NaN</td>\n",
       "      <td>t</td>\n",
       "      <td>0.12</td>\n",
       "      <td>True</td>\n",
       "    </tr>\n",
       "    <tr>\n",
       "      <th>12800</th>\n",
       "      <td>19448221</td>\n",
       "      <td>Light, independant apartment in City Centre.</td>\n",
       "      <td>Light apartement in Amsterdam centre, ideal fo...</td>\n",
       "      <td>104212500</td>\n",
       "      <td>f</td>\n",
       "      <td>De Baarsjes - Oud-West</td>\n",
       "      <td>52.367946</td>\n",
       "      <td>4.874349</td>\n",
       "      <td>Apartment</td>\n",
       "      <td>Entire home/apt</td>\n",
       "      <td>...</td>\n",
       "      <td>5</td>\n",
       "      <td>1125</td>\n",
       "      <td>0</td>\n",
       "      <td>1</td>\n",
       "      <td>100.0</td>\n",
       "      <td>NaN</td>\n",
       "      <td>NaN</td>\n",
       "      <td>f</td>\n",
       "      <td>0.06</td>\n",
       "      <td>True</td>\n",
       "    </tr>\n",
       "    <tr>\n",
       "      <th>12945</th>\n",
       "      <td>19617570</td>\n",
       "      <td>Big and bright private room [18m2] in de Pijp</td>\n",
       "      <td>Big and bright 18m2 bedroom with high ceilings...</td>\n",
       "      <td>608470</td>\n",
       "      <td>f</td>\n",
       "      <td>De Pijp - Rivierenbuurt</td>\n",
       "      <td>52.351934</td>\n",
       "      <td>4.889750</td>\n",
       "      <td>Apartment</td>\n",
       "      <td>Private room</td>\n",
       "      <td>...</td>\n",
       "      <td>6</td>\n",
       "      <td>20</td>\n",
       "      <td>0</td>\n",
       "      <td>1</td>\n",
       "      <td>100.0</td>\n",
       "      <td>NaN</td>\n",
       "      <td>NaN</td>\n",
       "      <td>f</td>\n",
       "      <td>0.06</td>\n",
       "      <td>True</td>\n",
       "    </tr>\n",
       "    <tr>\n",
       "      <th>13087</th>\n",
       "      <td>19760085</td>\n",
       "      <td>Unique spacious 110sqm townhouse on canal / ga...</td>\n",
       "      <td>Staying in the heart of bustling Amsterdam and...</td>\n",
       "      <td>2970268</td>\n",
       "      <td>f</td>\n",
       "      <td>De Baarsjes - Oud-West</td>\n",
       "      <td>52.368908</td>\n",
       "      <td>4.873852</td>\n",
       "      <td>Townhouse</td>\n",
       "      <td>Entire home/apt</td>\n",
       "      <td>...</td>\n",
       "      <td>3</td>\n",
       "      <td>14</td>\n",
       "      <td>0</td>\n",
       "      <td>1</td>\n",
       "      <td>100.0</td>\n",
       "      <td>NaN</td>\n",
       "      <td>NaN</td>\n",
       "      <td>f</td>\n",
       "      <td>0.06</td>\n",
       "      <td>True</td>\n",
       "    </tr>\n",
       "    <tr>\n",
       "      <th>13105</th>\n",
       "      <td>19781179</td>\n",
       "      <td>2nd bedroom in lovely apartment Amsterdam</td>\n",
       "      <td>Lovely 48m2 renovated apartment situated in Am...</td>\n",
       "      <td>15193430</td>\n",
       "      <td>f</td>\n",
       "      <td>Oud-Oost</td>\n",
       "      <td>52.358898</td>\n",
       "      <td>4.916253</td>\n",
       "      <td>Apartment</td>\n",
       "      <td>Entire home/apt</td>\n",
       "      <td>...</td>\n",
       "      <td>2</td>\n",
       "      <td>15</td>\n",
       "      <td>0</td>\n",
       "      <td>3</td>\n",
       "      <td>80.0</td>\n",
       "      <td>NaN</td>\n",
       "      <td>NaN</td>\n",
       "      <td>t</td>\n",
       "      <td>0.18</td>\n",
       "      <td>True</td>\n",
       "    </tr>\n",
       "    <tr>\n",
       "      <th>13235</th>\n",
       "      <td>19887425</td>\n",
       "      <td>Spacious Modern Flat next to Amsterdam Arena</td>\n",
       "      <td>The apartment is located on the third floor of...</td>\n",
       "      <td>74758582</td>\n",
       "      <td>f</td>\n",
       "      <td>Bijlmer-Centrum</td>\n",
       "      <td>52.318120</td>\n",
       "      <td>4.950189</td>\n",
       "      <td>Apartment</td>\n",
       "      <td>Private room</td>\n",
       "      <td>...</td>\n",
       "      <td>5</td>\n",
       "      <td>10</td>\n",
       "      <td>0</td>\n",
       "      <td>1</td>\n",
       "      <td>100.0</td>\n",
       "      <td>NaN</td>\n",
       "      <td>NaN</td>\n",
       "      <td>f</td>\n",
       "      <td>0.06</td>\n",
       "      <td>True</td>\n",
       "    </tr>\n",
       "    <tr>\n",
       "      <th>13292</th>\n",
       "      <td>19936373</td>\n",
       "      <td>Lovely Luxurious House With Roof Terrace!</td>\n",
       "      <td>Perfect getaway in Amsterdam for business trav...</td>\n",
       "      <td>141272694</td>\n",
       "      <td>f</td>\n",
       "      <td>Zuid</td>\n",
       "      <td>52.350953</td>\n",
       "      <td>4.851697</td>\n",
       "      <td>House</td>\n",
       "      <td>Entire home/apt</td>\n",
       "      <td>...</td>\n",
       "      <td>2</td>\n",
       "      <td>1125</td>\n",
       "      <td>0</td>\n",
       "      <td>1</td>\n",
       "      <td>60.0</td>\n",
       "      <td>NaN</td>\n",
       "      <td>NaN</td>\n",
       "      <td>t</td>\n",
       "      <td>0.06</td>\n",
       "      <td>True</td>\n",
       "    </tr>\n",
       "    <tr>\n",
       "      <th>13769</th>\n",
       "      <td>20487597</td>\n",
       "      <td>Little paradise in Amsterdam-West</td>\n",
       "      <td>This fun apartment for 2 people with a blossom...</td>\n",
       "      <td>65859990</td>\n",
       "      <td>f</td>\n",
       "      <td>Westerpark</td>\n",
       "      <td>52.384199</td>\n",
       "      <td>4.871701</td>\n",
       "      <td>Apartment</td>\n",
       "      <td>Entire home/apt</td>\n",
       "      <td>...</td>\n",
       "      <td>2</td>\n",
       "      <td>365</td>\n",
       "      <td>0</td>\n",
       "      <td>1</td>\n",
       "      <td>100.0</td>\n",
       "      <td>NaN</td>\n",
       "      <td>NaN</td>\n",
       "      <td>t</td>\n",
       "      <td>0.06</td>\n",
       "      <td>True</td>\n",
       "    </tr>\n",
       "    <tr>\n",
       "      <th>16343</th>\n",
       "      <td>24177823</td>\n",
       "      <td>Lovely space in the Indische Buurt</td>\n",
       "      <td>Welcome to our beautiful house!Located in the ...</td>\n",
       "      <td>28282227</td>\n",
       "      <td>f</td>\n",
       "      <td>Oostelijk Havengebied - Indische Buurt</td>\n",
       "      <td>52.361695</td>\n",
       "      <td>4.945496</td>\n",
       "      <td>Apartment</td>\n",
       "      <td>Private room</td>\n",
       "      <td>...</td>\n",
       "      <td>2</td>\n",
       "      <td>20</td>\n",
       "      <td>0</td>\n",
       "      <td>1</td>\n",
       "      <td>100.0</td>\n",
       "      <td>NaN</td>\n",
       "      <td>NaN</td>\n",
       "      <td>f</td>\n",
       "      <td>0.41</td>\n",
       "      <td>True</td>\n",
       "    </tr>\n",
       "  </tbody>\n",
       "</table>\n",
       "<p>23 rows × 27 columns</p>\n",
       "</div>"
      ],
      "text/plain": [
       "             id                                               name  \\\n",
       "3803    6344284                   Cozy Amsterdam Apartment For Two   \n",
       "6208   10137549                  Spacious apartment in city centre   \n",
       "6365   10489911                Luxury apartment in \"Rivierenbuurt\"   \n",
       "6817   11486321                               Renovated apartement   \n",
       "6980   11732452                     Comfortable Jordaan appartment   \n",
       "8330   13576855                 Cozy Room close to the City Centre   \n",
       "8795   13955824             Authentic cozy home in Amsterdam North   \n",
       "8931   14067949                    120m2. Third floor+attic. Cosy.   \n",
       "9079   14210563          Spacious apartment near the Amsterdam Rai   \n",
       "9147   14275520      Family home with garden on canal in Amsterdam   \n",
       "9785   15279481    Cozy room with convenient public transportation   \n",
       "10461  16284951                     Simple style, lovely location.   \n",
       "10941  17018334         Penthouse with view of Amsterdam's skyline   \n",
       "12685  19310618                             A place beyond believe   \n",
       "12772  19410652                        Spacious bohemian apartment   \n",
       "12800  19448221       Light, independant apartment in City Centre.   \n",
       "12945  19617570      Big and bright private room [18m2] in de Pijp   \n",
       "13087  19760085  Unique spacious 110sqm townhouse on canal / ga...   \n",
       "13105  19781179          2nd bedroom in lovely apartment Amsterdam   \n",
       "13235  19887425       Spacious Modern Flat next to Amsterdam Arena   \n",
       "13292  19936373          Lovely Luxurious House With Roof Terrace!   \n",
       "13769  20487597                  Little paradise in Amsterdam-West   \n",
       "16343  24177823                 Lovely space in the Indische Buurt   \n",
       "\n",
       "                                                 summary    host_id  \\\n",
       "3803   We offer our nice & cozy apartment in the cent...   19364602   \n",
       "6208   Lovely apartment in the upcoming neighborhood ...   14118176   \n",
       "6365   Beautiful new apartment with rooftop terrace. ...   22928421   \n",
       "6817   I just renovated my appartement to a double be...    3256150   \n",
       "6980   Cosy 64m2 appartment located in the heart of t...   62403836   \n",
       "8330   Welcome to our amazing and sunny apartment, in...   37158057   \n",
       "8795   Our authentic & cozy home is perfectly suited ...   83110320   \n",
       "8931   Near Zuid WTC, Amsterdamse bos (biggest park o...   84478994   \n",
       "9079   This large apartment has all the comfort neede...   86272777   \n",
       "9147   Nice family home in Amsterdam with canal garde...   19121390   \n",
       "9785   It is a raw house with convenient public trans...   66026889   \n",
       "10461  My place is located in a vibrant part of the c...   12452138   \n",
       "10941  Comfortable and very bright penthouse apartmen...   93115751   \n",
       "12685  Cosy home full with colours and home made art....   55156995   \n",
       "12772  The apartment is perfect for four persons. It ...   16767789   \n",
       "12800  Light apartement in Amsterdam centre, ideal fo...  104212500   \n",
       "12945  Big and bright 18m2 bedroom with high ceilings...     608470   \n",
       "13087  Staying in the heart of bustling Amsterdam and...    2970268   \n",
       "13105  Lovely 48m2 renovated apartment situated in Am...   15193430   \n",
       "13235  The apartment is located on the third floor of...   74758582   \n",
       "13292  Perfect getaway in Amsterdam for business trav...  141272694   \n",
       "13769  This fun apartment for 2 people with a blossom...   65859990   \n",
       "16343  Welcome to our beautiful house!Located in the ...   28282227   \n",
       "\n",
       "      host_is_superhost                  neighbourhood_cleansed   latitude  \\\n",
       "3803                  f                              Westerpark  52.387509   \n",
       "6208                  f                  De Baarsjes - Oud-West  52.369193   \n",
       "6365                  f                 De Pijp - Rivierenbuurt  52.343758   \n",
       "6817                  f                                    Zuid  52.345079   \n",
       "6980                  f                            Centrum-West  52.378056   \n",
       "8330                  f                  De Baarsjes - Oud-West  52.368478   \n",
       "8795                  f                               Oud-Noord  52.391086   \n",
       "8931                  f                  Buitenveldert - Zuidas  52.324447   \n",
       "9079                  f                 De Pijp - Rivierenbuurt  52.345316   \n",
       "9147                  f                IJburg - Zeeburgereiland  52.352625   \n",
       "9785                  f                   Gaasperdam - Driemond  52.297613   \n",
       "10461                 f                                    Zuid  52.352601   \n",
       "10941                 f                           Bos en Lommer  52.377862   \n",
       "12685                 f                              Noord-West  52.415900   \n",
       "12772                 f                                Oud-Oost  52.360264   \n",
       "12800                 f                  De Baarsjes - Oud-West  52.367946   \n",
       "12945                 f                 De Pijp - Rivierenbuurt  52.351934   \n",
       "13087                 f                  De Baarsjes - Oud-West  52.368908   \n",
       "13105                 f                                Oud-Oost  52.358898   \n",
       "13235                 f                         Bijlmer-Centrum  52.318120   \n",
       "13292                 f                                    Zuid  52.350953   \n",
       "13769                 f                              Westerpark  52.384199   \n",
       "16343                 f  Oostelijk Havengebied - Indische Buurt  52.361695   \n",
       "\n",
       "       longitude property_type        room_type  ...  minimum_nights  \\\n",
       "3803    4.880308     Apartment  Entire home/apt  ...               3   \n",
       "6208    4.860728     Apartment  Entire home/apt  ...               2   \n",
       "6365    4.906487     Apartment  Entire home/apt  ...               2   \n",
       "6817    4.861024     Apartment  Entire home/apt  ...               2   \n",
       "6980    4.883645     Apartment     Private room  ...               1   \n",
       "8330    4.865663     Apartment     Private room  ...               1   \n",
       "8795    4.908351         House  Entire home/apt  ...               3   \n",
       "8931    4.873010     Apartment  Entire home/apt  ...               7   \n",
       "9079    4.891995     Apartment  Entire home/apt  ...               2   \n",
       "9147    5.006623         House  Entire home/apt  ...               4   \n",
       "9785    4.994682     Townhouse     Private room  ...               1   \n",
       "10461   4.855254     Apartment     Private room  ...               1   \n",
       "10941   4.847506         House  Entire home/apt  ...              14   \n",
       "12685   4.883895         House  Entire home/apt  ...               4   \n",
       "12772   4.914693     Apartment  Entire home/apt  ...               7   \n",
       "12800   4.874349     Apartment  Entire home/apt  ...               5   \n",
       "12945   4.889750     Apartment     Private room  ...               6   \n",
       "13087   4.873852     Townhouse  Entire home/apt  ...               3   \n",
       "13105   4.916253     Apartment  Entire home/apt  ...               2   \n",
       "13235   4.950189     Apartment     Private room  ...               5   \n",
       "13292   4.851697         House  Entire home/apt  ...               2   \n",
       "13769   4.871701     Apartment  Entire home/apt  ...               2   \n",
       "16343   4.945496     Apartment     Private room  ...               2   \n",
       "\n",
       "       maximum_nights  availability_365 number_of_reviews  \\\n",
       "3803             1125                 0                 1   \n",
       "6208             1125                 0                 1   \n",
       "6365               21                 0                 1   \n",
       "6817             1125                11                 1   \n",
       "6980             1125                 0                 7   \n",
       "8330             1125                 0                 2   \n",
       "8795                4                 0                 1   \n",
       "8931               15                 0                 1   \n",
       "9079             1125                 0                 1   \n",
       "9147               21                 0                 1   \n",
       "9785             1125                 0                 2   \n",
       "10461               2                 0                 1   \n",
       "10941            1125                 0                 1   \n",
       "12685               7               339                 2   \n",
       "12772              13                 0                 2   \n",
       "12800            1125                 0                 1   \n",
       "12945              20                 0                 1   \n",
       "13087              14                 0                 1   \n",
       "13105              15                 0                 3   \n",
       "13235              10                 0                 1   \n",
       "13292            1125                 0                 1   \n",
       "13769             365                 0                 1   \n",
       "16343              20                 0                 1   \n",
       "\n",
       "      review_scores_rating  review_scores_location  review_scores_value  \\\n",
       "3803                  80.0                     NaN                  NaN   \n",
       "6208                 100.0                     NaN                  NaN   \n",
       "6365                 100.0                     NaN                  NaN   \n",
       "6817                  80.0                     NaN                  NaN   \n",
       "6980                  80.0                     NaN                  NaN   \n",
       "8330                 100.0                     8.0                  NaN   \n",
       "8795                 100.0                     NaN                 10.0   \n",
       "8931                 100.0                     NaN                 10.0   \n",
       "9079                 100.0                     NaN                  NaN   \n",
       "9147                  80.0                     NaN                  NaN   \n",
       "9785                 100.0                     NaN                  NaN   \n",
       "10461                100.0                     NaN                  NaN   \n",
       "10941                 60.0                     NaN                  NaN   \n",
       "12685                100.0                     NaN                  NaN   \n",
       "12772                100.0                     NaN                  NaN   \n",
       "12800                100.0                     NaN                  NaN   \n",
       "12945                100.0                     NaN                  NaN   \n",
       "13087                100.0                     NaN                  NaN   \n",
       "13105                 80.0                     NaN                  NaN   \n",
       "13235                100.0                     NaN                  NaN   \n",
       "13292                 60.0                     NaN                  NaN   \n",
       "13769                100.0                     NaN                  NaN   \n",
       "16343                100.0                     NaN                  NaN   \n",
       "\n",
       "       instant_bookable  reviews_per_month  rated  \n",
       "3803                  f               0.02   True  \n",
       "6208                  f               0.03   True  \n",
       "6365                  f               0.04   True  \n",
       "6817                  f               0.05   True  \n",
       "6980                  t               0.22   True  \n",
       "8330                  f               0.07   True  \n",
       "8795                  f               0.04   True  \n",
       "8931                  f               0.04   True  \n",
       "9079                  f               0.04   True  \n",
       "9147                  f               0.04   True  \n",
       "9785                  f               0.08   True  \n",
       "10461                 t               0.04   True  \n",
       "10941                 t               0.04   True  \n",
       "12685                 t               0.12   True  \n",
       "12772                 t               0.12   True  \n",
       "12800                 f               0.06   True  \n",
       "12945                 f               0.06   True  \n",
       "13087                 f               0.06   True  \n",
       "13105                 t               0.18   True  \n",
       "13235                 f               0.06   True  \n",
       "13292                 t               0.06   True  \n",
       "13769                 t               0.06   True  \n",
       "16343                 f               0.41   True  \n",
       "\n",
       "[23 rows x 27 columns]"
      ]
     },
     "execution_count": 34,
     "metadata": {},
     "output_type": "execute_result"
    }
   ],
   "source": [
    "#Subsetting & reviewing final missing review details before moving on to exporting\n",
    "remaining_nan_reviews = listings_reviewed[listings_reviewed.isnull().any(axis=1)]\n",
    "remaining_nan_reviews.head(50)"
   ]
  },
  {
   "cell_type": "code",
   "execution_count": 35,
   "id": "3d946069",
   "metadata": {},
   "outputs": [
    {
     "name": "stderr",
     "output_type": "stream",
     "text": [
      "C:\\Users\\mojos\\AppData\\Local\\Temp\\ipykernel_20984\\1496344813.py:1: SettingWithCopyWarning: \n",
      "A value is trying to be set on a copy of a slice from a DataFrame\n",
      "\n",
      "See the caveats in the documentation: https://pandas.pydata.org/pandas-docs/stable/user_guide/indexing.html#returning-a-view-versus-a-copy\n",
      "  listings_reviewed.dropna(inplace=True)\n"
     ]
    },
    {
     "data": {
      "text/plain": [
       "(17356, 27)"
      ]
     },
     "execution_count": 35,
     "metadata": {},
     "output_type": "execute_result"
    }
   ],
   "source": [
    "listings_reviewed.dropna(inplace=True)\n",
    "listings_reviewed.shape"
   ]
  },
  {
   "cell_type": "markdown",
   "id": "9a032d38",
   "metadata": {},
   "source": [
    "#### The dropna function removed the expected quantity of rows with missing data, and we have a subset of the data to revisit later if required (remaining_nan_reviews)"
   ]
  },
  {
   "cell_type": "code",
   "execution_count": 36,
   "id": "33dcd0b2",
   "metadata": {},
   "outputs": [
    {
     "data": {
      "text/plain": [
       "id                        0\n",
       "name                      0\n",
       "summary                   0\n",
       "host_id                   0\n",
       "host_is_superhost         0\n",
       "neighbourhood_cleansed    0\n",
       "latitude                  0\n",
       "longitude                 0\n",
       "property_type             0\n",
       "room_type                 0\n",
       "accommodates              0\n",
       "bedrooms                  0\n",
       "beds                      0\n",
       "bed_type                  0\n",
       "amenities                 0\n",
       "price                     0\n",
       "guests_included           0\n",
       "minimum_nights            0\n",
       "maximum_nights            0\n",
       "availability_365          0\n",
       "number_of_reviews         0\n",
       "review_scores_rating      0\n",
       "review_scores_location    0\n",
       "review_scores_value       0\n",
       "instant_bookable          0\n",
       "reviews_per_month         0\n",
       "rated                     0\n",
       "dtype: int64"
      ]
     },
     "execution_count": 36,
     "metadata": {},
     "output_type": "execute_result"
    }
   ],
   "source": [
    "listings_reviewed.isnull().sum()"
   ]
  },
  {
   "cell_type": "code",
   "execution_count": 37,
   "id": "9c35e1fd",
   "metadata": {},
   "outputs": [
    {
     "data": {
      "text/html": [
       "<div>\n",
       "<style scoped>\n",
       "    .dataframe tbody tr th:only-of-type {\n",
       "        vertical-align: middle;\n",
       "    }\n",
       "\n",
       "    .dataframe tbody tr th {\n",
       "        vertical-align: top;\n",
       "    }\n",
       "\n",
       "    .dataframe thead th {\n",
       "        text-align: right;\n",
       "    }\n",
       "</style>\n",
       "<table border=\"1\" class=\"dataframe\">\n",
       "  <thead>\n",
       "    <tr style=\"text-align: right;\">\n",
       "      <th></th>\n",
       "      <th>latitude</th>\n",
       "      <th>longitude</th>\n",
       "      <th>accommodates</th>\n",
       "      <th>bedrooms</th>\n",
       "      <th>beds</th>\n",
       "      <th>price</th>\n",
       "      <th>guests_included</th>\n",
       "      <th>minimum_nights</th>\n",
       "      <th>maximum_nights</th>\n",
       "      <th>availability_365</th>\n",
       "      <th>number_of_reviews</th>\n",
       "      <th>review_scores_rating</th>\n",
       "      <th>review_scores_location</th>\n",
       "      <th>review_scores_value</th>\n",
       "      <th>reviews_per_month</th>\n",
       "    </tr>\n",
       "  </thead>\n",
       "  <tbody>\n",
       "    <tr>\n",
       "      <th>count</th>\n",
       "      <td>17356.000000</td>\n",
       "      <td>17356.000000</td>\n",
       "      <td>17356.000000</td>\n",
       "      <td>17356.000000</td>\n",
       "      <td>17356.000000</td>\n",
       "      <td>17356.000000</td>\n",
       "      <td>17356.000000</td>\n",
       "      <td>17356.000000</td>\n",
       "      <td>17356.000000</td>\n",
       "      <td>17356.000000</td>\n",
       "      <td>17356.000000</td>\n",
       "      <td>17356.000000</td>\n",
       "      <td>17356.000000</td>\n",
       "      <td>17356.000000</td>\n",
       "      <td>17356.000000</td>\n",
       "    </tr>\n",
       "    <tr>\n",
       "      <th>mean</th>\n",
       "      <td>52.365396</td>\n",
       "      <td>4.888888</td>\n",
       "      <td>2.872263</td>\n",
       "      <td>1.433107</td>\n",
       "      <td>1.835965</td>\n",
       "      <td>148.497522</td>\n",
       "      <td>1.500115</td>\n",
       "      <td>3.167435</td>\n",
       "      <td>622.649977</td>\n",
       "      <td>59.395310</td>\n",
       "      <td>24.846278</td>\n",
       "      <td>94.854056</td>\n",
       "      <td>9.421583</td>\n",
       "      <td>9.175040</td>\n",
       "      <td>1.072811</td>\n",
       "    </tr>\n",
       "    <tr>\n",
       "      <th>std</th>\n",
       "      <td>0.015823</td>\n",
       "      <td>0.035246</td>\n",
       "      <td>1.284166</td>\n",
       "      <td>0.867856</td>\n",
       "      <td>1.357799</td>\n",
       "      <td>135.302900</td>\n",
       "      <td>0.940310</td>\n",
       "      <td>12.504979</td>\n",
       "      <td>541.851939</td>\n",
       "      <td>102.586912</td>\n",
       "      <td>45.566163</td>\n",
       "      <td>6.636581</td>\n",
       "      <td>0.727937</td>\n",
       "      <td>0.805564</td>\n",
       "      <td>1.338741</td>\n",
       "    </tr>\n",
       "    <tr>\n",
       "      <th>min</th>\n",
       "      <td>52.289274</td>\n",
       "      <td>4.763264</td>\n",
       "      <td>1.000000</td>\n",
       "      <td>0.000000</td>\n",
       "      <td>0.000000</td>\n",
       "      <td>0.000000</td>\n",
       "      <td>1.000000</td>\n",
       "      <td>1.000000</td>\n",
       "      <td>1.000000</td>\n",
       "      <td>0.000000</td>\n",
       "      <td>1.000000</td>\n",
       "      <td>20.000000</td>\n",
       "      <td>2.000000</td>\n",
       "      <td>2.000000</td>\n",
       "      <td>0.010000</td>\n",
       "    </tr>\n",
       "    <tr>\n",
       "      <th>25%</th>\n",
       "      <td>52.355397</td>\n",
       "      <td>4.863701</td>\n",
       "      <td>2.000000</td>\n",
       "      <td>1.000000</td>\n",
       "      <td>1.000000</td>\n",
       "      <td>97.000000</td>\n",
       "      <td>1.000000</td>\n",
       "      <td>2.000000</td>\n",
       "      <td>21.000000</td>\n",
       "      <td>0.000000</td>\n",
       "      <td>4.000000</td>\n",
       "      <td>93.000000</td>\n",
       "      <td>9.000000</td>\n",
       "      <td>9.000000</td>\n",
       "      <td>0.270000</td>\n",
       "    </tr>\n",
       "    <tr>\n",
       "      <th>50%</th>\n",
       "      <td>52.364830</td>\n",
       "      <td>4.886293</td>\n",
       "      <td>2.000000</td>\n",
       "      <td>1.000000</td>\n",
       "      <td>1.000000</td>\n",
       "      <td>125.000000</td>\n",
       "      <td>1.000000</td>\n",
       "      <td>2.000000</td>\n",
       "      <td>1124.000000</td>\n",
       "      <td>4.000000</td>\n",
       "      <td>11.000000</td>\n",
       "      <td>97.000000</td>\n",
       "      <td>10.000000</td>\n",
       "      <td>9.000000</td>\n",
       "      <td>0.630000</td>\n",
       "    </tr>\n",
       "    <tr>\n",
       "      <th>75%</th>\n",
       "      <td>52.375121</td>\n",
       "      <td>4.908177</td>\n",
       "      <td>4.000000</td>\n",
       "      <td>2.000000</td>\n",
       "      <td>2.000000</td>\n",
       "      <td>175.000000</td>\n",
       "      <td>2.000000</td>\n",
       "      <td>3.000000</td>\n",
       "      <td>1125.000000</td>\n",
       "      <td>68.000000</td>\n",
       "      <td>25.000000</td>\n",
       "      <td>100.000000</td>\n",
       "      <td>10.000000</td>\n",
       "      <td>10.000000</td>\n",
       "      <td>1.240000</td>\n",
       "    </tr>\n",
       "    <tr>\n",
       "      <th>max</th>\n",
       "      <td>52.424713</td>\n",
       "      <td>5.027689</td>\n",
       "      <td>17.000000</td>\n",
       "      <td>12.000000</td>\n",
       "      <td>32.000000</td>\n",
       "      <td>8500.000000</td>\n",
       "      <td>16.000000</td>\n",
       "      <td>1001.000000</td>\n",
       "      <td>9999.000000</td>\n",
       "      <td>365.000000</td>\n",
       "      <td>695.000000</td>\n",
       "      <td>100.000000</td>\n",
       "      <td>10.000000</td>\n",
       "      <td>10.000000</td>\n",
       "      <td>11.850000</td>\n",
       "    </tr>\n",
       "  </tbody>\n",
       "</table>\n",
       "</div>"
      ],
      "text/plain": [
       "           latitude     longitude  accommodates      bedrooms          beds  \\\n",
       "count  17356.000000  17356.000000  17356.000000  17356.000000  17356.000000   \n",
       "mean      52.365396      4.888888      2.872263      1.433107      1.835965   \n",
       "std        0.015823      0.035246      1.284166      0.867856      1.357799   \n",
       "min       52.289274      4.763264      1.000000      0.000000      0.000000   \n",
       "25%       52.355397      4.863701      2.000000      1.000000      1.000000   \n",
       "50%       52.364830      4.886293      2.000000      1.000000      1.000000   \n",
       "75%       52.375121      4.908177      4.000000      2.000000      2.000000   \n",
       "max       52.424713      5.027689     17.000000     12.000000     32.000000   \n",
       "\n",
       "              price  guests_included  minimum_nights  maximum_nights  \\\n",
       "count  17356.000000     17356.000000    17356.000000    17356.000000   \n",
       "mean     148.497522         1.500115        3.167435      622.649977   \n",
       "std      135.302900         0.940310       12.504979      541.851939   \n",
       "min        0.000000         1.000000        1.000000        1.000000   \n",
       "25%       97.000000         1.000000        2.000000       21.000000   \n",
       "50%      125.000000         1.000000        2.000000     1124.000000   \n",
       "75%      175.000000         2.000000        3.000000     1125.000000   \n",
       "max     8500.000000        16.000000     1001.000000     9999.000000   \n",
       "\n",
       "       availability_365  number_of_reviews  review_scores_rating  \\\n",
       "count      17356.000000       17356.000000          17356.000000   \n",
       "mean          59.395310          24.846278             94.854056   \n",
       "std          102.586912          45.566163              6.636581   \n",
       "min            0.000000           1.000000             20.000000   \n",
       "25%            0.000000           4.000000             93.000000   \n",
       "50%            4.000000          11.000000             97.000000   \n",
       "75%           68.000000          25.000000            100.000000   \n",
       "max          365.000000         695.000000            100.000000   \n",
       "\n",
       "       review_scores_location  review_scores_value  reviews_per_month  \n",
       "count            17356.000000         17356.000000       17356.000000  \n",
       "mean                 9.421583             9.175040           1.072811  \n",
       "std                  0.727937             0.805564           1.338741  \n",
       "min                  2.000000             2.000000           0.010000  \n",
       "25%                  9.000000             9.000000           0.270000  \n",
       "50%                 10.000000             9.000000           0.630000  \n",
       "75%                 10.000000            10.000000           1.240000  \n",
       "max                 10.000000            10.000000          11.850000  "
      ]
     },
     "execution_count": 37,
     "metadata": {},
     "output_type": "execute_result"
    }
   ],
   "source": [
    "listings_reviewed.describe()"
   ]
  },
  {
   "cell_type": "code",
   "execution_count": 38,
   "id": "0b1a5fef",
   "metadata": {},
   "outputs": [],
   "source": [
    "#Groupby view to be exported to excel as part of consistency and wrangling summary / project plan overview\n",
    "listings_reviewed.groupby('price')['id'].nunique().to_clipboard()"
   ]
  },
  {
   "cell_type": "code",
   "execution_count": 39,
   "id": "752088cd",
   "metadata": {},
   "outputs": [],
   "source": [
    "#Based off the above groupby review, there were a few instances of unreasonably low prices which need to be reviewed.\n",
    "listings_reviewed[listings_reviewed['price']<=20].to_clipboard()"
   ]
  },
  {
   "cell_type": "code",
   "execution_count": 40,
   "id": "93ec75aa",
   "metadata": {},
   "outputs": [
    {
     "data": {
      "text/plain": [
       "(17354, 27)"
      ]
     },
     "execution_count": 40,
     "metadata": {},
     "output_type": "execute_result"
    }
   ],
   "source": [
    "#Following on from clipboard review, there are 2 listings which are at $0, which by my judgment should be removed.\n",
    "listings_reviewed2 = listings_reviewed[listings_reviewed['price']!=0]\n",
    "listings_reviewed2.shape\n",
    "#Whilst there are other properties between 10-20 Euros, it's not valid to simply remove them at this stage, because we don't know exactly what they are supposed to represent"
   ]
  },
  {
   "cell_type": "markdown",
   "id": "39a64c90",
   "metadata": {},
   "source": [
    "#### Last few steps for this initial data prep is to define some initial groupings that we can use for our analysis in the next steps. This requires the use of Boxplots to define price and property size groupings (e.g low price, average, high price - Small rental, average rental, large rental. etc.)"
   ]
  },
  {
   "cell_type": "code",
   "execution_count": 41,
   "id": "c96eeea8",
   "metadata": {},
   "outputs": [
    {
     "data": {
      "text/plain": [
       "count    17354.000000\n",
       "mean       148.514636\n",
       "std        135.301304\n",
       "min          8.000000\n",
       "25%         97.000000\n",
       "50%        125.000000\n",
       "75%        175.000000\n",
       "max       8500.000000\n",
       "Name: price, dtype: float64"
      ]
     },
     "execution_count": 41,
     "metadata": {},
     "output_type": "execute_result"
    }
   ],
   "source": [
    "listings_reviewed2['price'].describe()"
   ]
  },
  {
   "cell_type": "code",
   "execution_count": 42,
   "id": "db14e26c",
   "metadata": {},
   "outputs": [
    {
     "data": {
      "text/plain": [
       "{'whiskers': [<matplotlib.lines.Line2D at 0x200cb2a0190>,\n",
       "  <matplotlib.lines.Line2D at 0x200d2d43c90>],\n",
       " 'caps': [<matplotlib.lines.Line2D at 0x200d2d4c510>,\n",
       "  <matplotlib.lines.Line2D at 0x200d2d4cbd0>],\n",
       " 'boxes': [<matplotlib.lines.Line2D at 0x200d5867150>],\n",
       " 'medians': [<matplotlib.lines.Line2D at 0x200d2d4d4d0>],\n",
       " 'fliers': [<matplotlib.lines.Line2D at 0x200d9795a90>],\n",
       " 'means': []}"
      ]
     },
     "execution_count": 42,
     "metadata": {},
     "output_type": "execute_result"
    },
    {
     "data": {
      "image/png": "[encoded data removed]",
      "text/plain": [
       "<Figure size 640x480 with 1 Axes>"
      ]
     },
     "metadata": {},
     "output_type": "display_data"
    }
   ],
   "source": [
    "plt.boxplot(listings_reviewed2['price'])"
   ]
  },
  {
   "cell_type": "markdown",
   "id": "29b1000f",
   "metadata": {},
   "source": [
    "### Price variables to defined based on quartiles as reviewed in the .describe command above."
   ]
  },
  {
   "cell_type": "code",
   "execution_count": 43,
   "id": "fce725a3",
   "metadata": {},
   "outputs": [
    {
     "name": "stderr",
     "output_type": "stream",
     "text": [
      "C:\\Users\\mojos\\AppData\\Local\\Temp\\ipykernel_20984\\1357748525.py:1: SettingWithCopyWarning: \n",
      "A value is trying to be set on a copy of a slice from a DataFrame.\n",
      "Try using .loc[row_indexer,col_indexer] = value instead\n",
      "\n",
      "See the caveats in the documentation: https://pandas.pydata.org/pandas-docs/stable/user_guide/indexing.html#returning-a-view-versus-a-copy\n",
      "  listings_reviewed2.loc[listings_reviewed2['price'] > 175, 'pricing_tier'] = 'High-End'\n"
     ]
    },
    {
     "data": {
      "text/plain": [
       "pricing_tier\n",
       "Mid-High-End    4507\n",
       "Mid-Low-End     4504\n",
       "Low             4368\n",
       "High-End        3975\n",
       "Name: count, dtype: int64"
      ]
     },
     "execution_count": 43,
     "metadata": {},
     "output_type": "execute_result"
    }
   ],
   "source": [
    "listings_reviewed2.loc[listings_reviewed2['price'] > 175, 'pricing_tier'] = 'High-End'\n",
    "listings_reviewed2.loc[(listings_reviewed2['price'] <= 175) & (listings_reviewed2['price'] > 125), 'pricing_tier'] = 'Mid-High-End' \n",
    "listings_reviewed2.loc[(listings_reviewed2['price'] <= 125) & (listings_reviewed2['price'] > 97), 'pricing_tier'] = 'Mid-Low-End'\n",
    "listings_reviewed2.loc[listings_reviewed2['price'] <= 97, 'pricing_tier'] = 'Low'\n",
    "listings_reviewed2['pricing_tier'].value_counts(dropna = False)"
   ]
  },
  {
   "cell_type": "markdown",
   "id": "e2e6b293",
   "metadata": {},
   "source": [
    "### Despite the long tail, the frequency of values in the 'accommodates' column is extremely concentrated between 2-4. The assumption here is that most listings would contain atleast 1 double (or larger) bed, capable of sleeping one couple with either a sofa or a pull-out sofabed to act as a second bed for an individual or couple.\n",
    "### As a result, I've decided to create naming conventions based on potential groupings size. This means that properties which can accomodate 1-2 guests are small group, 3-4 medium group, 5+ is large group."
   ]
  },
  {
   "cell_type": "code",
   "execution_count": 44,
   "id": "aeb853c3",
   "metadata": {},
   "outputs": [
    {
     "data": {
      "text/plain": [
       "count    17354.000000\n",
       "mean         2.872191\n",
       "std          1.284211\n",
       "min          1.000000\n",
       "25%          2.000000\n",
       "50%          2.000000\n",
       "75%          4.000000\n",
       "max         17.000000\n",
       "Name: accommodates, dtype: float64"
      ]
     },
     "execution_count": 44,
     "metadata": {},
     "output_type": "execute_result"
    }
   ],
   "source": [
    "listings_reviewed2['accommodates'].describe()"
   ]
  },
  {
   "cell_type": "code",
   "execution_count": 45,
   "id": "ebbba4e9",
   "metadata": {},
   "outputs": [
    {
     "data": {
      "text/plain": [
       "accommodates\n",
       "2     9519\n",
       "4     5285\n",
       "3     1449\n",
       "1      318\n",
       "5      305\n",
       "6      302\n",
       "8       70\n",
       "7       44\n",
       "16      21\n",
       "10      15\n",
       "12      14\n",
       "9        4\n",
       "14       4\n",
       "11       3\n",
       "17       1\n",
       "Name: count, dtype: int64"
      ]
     },
     "execution_count": 45,
     "metadata": {},
     "output_type": "execute_result"
    }
   ],
   "source": [
    "listings_reviewed2['accommodates'].value_counts(dropna = False)"
   ]
  },
  {
   "cell_type": "code",
   "execution_count": 46,
   "id": "62c907ca",
   "metadata": {},
   "outputs": [
    {
     "name": "stderr",
     "output_type": "stream",
     "text": [
      "C:\\Users\\mojos\\AppData\\Local\\Temp\\ipykernel_20984\\2698927239.py:1: SettingWithCopyWarning: \n",
      "A value is trying to be set on a copy of a slice from a DataFrame.\n",
      "Try using .loc[row_indexer,col_indexer] = value instead\n",
      "\n",
      "See the caveats in the documentation: https://pandas.pydata.org/pandas-docs/stable/user_guide/indexing.html#returning-a-view-versus-a-copy\n",
      "  listings_reviewed2.loc[listings_reviewed2['accommodates'] > 4, 'group_size'] = 'Large'\n"
     ]
    },
    {
     "data": {
      "text/plain": [
       "group_size\n",
       "Small     9837\n",
       "Medium    6734\n",
       "Large      783\n",
       "Name: count, dtype: int64"
      ]
     },
     "execution_count": 46,
     "metadata": {},
     "output_type": "execute_result"
    }
   ],
   "source": [
    "listings_reviewed2.loc[listings_reviewed2['accommodates'] > 4, 'group_size'] = 'Large'\n",
    "listings_reviewed2.loc[(listings_reviewed2['accommodates'] <= 4) & (listings_reviewed2['accommodates'] > 2), 'group_size'] = 'Medium'\n",
    "listings_reviewed2.loc[listings_reviewed2['accommodates'] <= 2, 'group_size'] = 'Small'\n",
    "listings_reviewed2['group_size'].value_counts(dropna = False)"
   ]
  },
  {
   "cell_type": "code",
   "execution_count": 47,
   "id": "966ee306",
   "metadata": {},
   "outputs": [
    {
     "name": "stderr",
     "output_type": "stream",
     "text": [
      "C:\\Users\\mojos\\AppData\\Local\\Temp\\ipykernel_20984\\2536444906.py:1: SettingWithCopyWarning: \n",
      "A value is trying to be set on a copy of a slice from a DataFrame.\n",
      "Try using .loc[row_indexer,col_indexer] = value instead\n",
      "\n",
      "See the caveats in the documentation: https://pandas.pydata.org/pandas-docs/stable/user_guide/indexing.html#returning-a-view-versus-a-copy\n",
      "  listings_reviewed2 ['groupsize_pricing_combined'] = listings_reviewed2['group_size'] + [' '] + listings_reviewed2['pricing_tier']\n"
     ]
    },
    {
     "data": {
      "text/plain": [
       "groupsize_pricing_combined\n",
       "Small Low              3639\n",
       "Small Mid-Low-End      3191\n",
       "Medium High-End        2688\n",
       "Small Mid-High-End     2275\n",
       "Medium Mid-High-End    2098\n",
       "Medium Mid-Low-End     1248\n",
       "Small High-End          732\n",
       "Medium Low              700\n",
       "Large High-End          555\n",
       "Large Mid-High-End      134\n",
       "Large Mid-Low-End        65\n",
       "Large Low                29\n",
       "Name: count, dtype: int64"
      ]
     },
     "execution_count": 47,
     "metadata": {},
     "output_type": "execute_result"
    }
   ],
   "source": [
    "listings_reviewed2 ['groupsize_pricing_combined'] = listings_reviewed2['group_size'] + [' '] + listings_reviewed2['pricing_tier']\n",
    "listings_reviewed2['groupsize_pricing_combined'].value_counts(dropna = False)"
   ]
  },
  {
   "cell_type": "code",
   "execution_count": 48,
   "id": "64477fba",
   "metadata": {},
   "outputs": [],
   "source": [
    "listings_reviewed2.describe().to_clipboard()"
   ]
  },
  {
   "cell_type": "code",
   "execution_count": 49,
   "id": "fc85cf88",
   "metadata": {},
   "outputs": [
    {
     "data": {
      "text/plain": [
       "(17354, 30)"
      ]
     },
     "execution_count": 49,
     "metadata": {},
     "output_type": "execute_result"
    }
   ],
   "source": [
    "listings_reviewed2.shape"
   ]
  },
  {
   "cell_type": "code",
   "execution_count": 50,
   "id": "a8e6b62a",
   "metadata": {},
   "outputs": [
    {
     "data": {
      "text/plain": [
       "(0, 30)"
      ]
     },
     "execution_count": 50,
     "metadata": {},
     "output_type": "execute_result"
    }
   ],
   "source": [
    "#No dupes present in final exported CSV.\n",
    "listings_reviewed2_dupes = listings_reviewed2[listings_reviewed2.duplicated()]\n",
    "listings_reviewed2_dupes.shape"
   ]
  },
  {
   "cell_type": "code",
   "execution_count": 51,
   "id": "c7f3e69a",
   "metadata": {},
   "outputs": [],
   "source": [
    "listings_reviewed3 = listings_reviewed2[listings_reviewed2['price']<=1000]\n",
    "listings_reviewed3.to_clipboard()"
   ]
  },
  {
   "cell_type": "code",
   "execution_count": 52,
   "id": "d6db6d71",
   "metadata": {},
   "outputs": [
    {
     "data": {
      "text/plain": [
       "(17341, 30)"
      ]
     },
     "execution_count": 52,
     "metadata": {},
     "output_type": "execute_result"
    }
   ],
   "source": [
    "listings_reviewed3.shape"
   ]
  },
  {
   "cell_type": "code",
   "execution_count": 53,
   "id": "0f5a09c9",
   "metadata": {},
   "outputs": [
    {
     "data": {
      "text/plain": [
       "<Axes: ylabel='Frequency'>"
      ]
     },
     "execution_count": 53,
     "metadata": {},
     "output_type": "execute_result"
    },
    {
     "data": {
      "image/png": "[encoded data removed]",
      "text/plain": [
       "<Figure size 640x480 with 1 Axes>"
      ]
     },
     "metadata": {},
     "output_type": "display_data"
    }
   ],
   "source": [
    "listings_reviewed3['price'].plot.hist(bins = 25)"
   ]
  },
  {
   "cell_type": "code",
   "execution_count": 54,
   "id": "abbd7744",
   "metadata": {},
   "outputs": [],
   "source": [
    "#exporting initial 'clean' version of the file.\n",
    "listings_reviewed2.to_csv(os.path.join(path,'prepared','listings_reviewed.csv'))\n",
    "listings_reviewed3.to_csv(os.path.join(path,'prepared','listings_sub1000.csv'))"
   ]
  },
  {
   "cell_type": "code",
   "execution_count": 55,
   "id": "5f05f1e9",
   "metadata": {},
   "outputs": [
    {
     "name": "stderr",
     "output_type": "stream",
     "text": [
      "C:\\Users\\mojos\\AppData\\Local\\Temp\\ipykernel_20984\\3824028640.py:2: SettingWithCopyWarning: \n",
      "A value is trying to be set on a copy of a slice from a DataFrame\n",
      "\n",
      "See the caveats in the documentation: https://pandas.pydata.org/pandas-docs/stable/user_guide/indexing.html#returning-a-view-versus-a-copy\n",
      "  calendar_prices.rename(columns = {'listing_id':'id'},inplace=True)\n"
     ]
    }
   ],
   "source": [
    "#Performing a merge onto calendar so as to bring in some categorical details such as neighbourhood and combined price / room type\n",
    "calendar_prices.rename(columns = {'listing_id':'id'},inplace=True)\n",
    "df_merged = calendar_prices.merge(listings_reviewed2[['id', 'neighbourhood_cleansed','groupsize_pricing_combined']], on = 'id', how = 'left',indicator=True)"
   ]
  },
  {
   "cell_type": "code",
   "execution_count": 56,
   "id": "0f213533",
   "metadata": {},
   "outputs": [
    {
     "data": {
      "text/plain": [
       "_merge\n",
       "both          1030539\n",
       "left_only      169532\n",
       "right_only          0\n",
       "Name: count, dtype: int64"
      ]
     },
     "execution_count": 56,
     "metadata": {},
     "output_type": "execute_result"
    }
   ],
   "source": [
    "df_merged['_merge'].value_counts()"
   ]
  },
  {
   "cell_type": "code",
   "execution_count": 57,
   "id": "0ae2735a",
   "metadata": {},
   "outputs": [
    {
     "name": "stdout",
     "output_type": "stream",
     "text": [
      "No.of.unique values : 10686\n"
     ]
    }
   ],
   "source": [
    "n = len(pd.unique(df_merged['id']))\n",
    "print(\"No.of.unique values :\",n)"
   ]
  },
  {
   "cell_type": "code",
   "execution_count": 58,
   "id": "6e6495f9",
   "metadata": {},
   "outputs": [
    {
     "name": "stdout",
     "output_type": "stream",
     "text": [
      "No.of.unique values : 1318\n"
     ]
    }
   ],
   "source": [
    "df_merged_missing = df_merged[df_merged['_merge']=='left_only']\n",
    "n = len(pd.unique(df_merged_missing['id']))\n",
    "print(\"No.of.unique values :\",n)"
   ]
  },
  {
   "cell_type": "code",
   "execution_count": 59,
   "id": "98a62256",
   "metadata": {},
   "outputs": [],
   "source": [
    "df_merged_full = df_merged[df_merged['_merge']=='both']\n",
    "df_merged_full = df_merged_full.drop(columns = ['_merge'])\n",
    "df_merged_full.to_csv(os.path.join(path,'Prepared','calendar_w_catagories.csv'))"
   ]
  }
 ],
 "metadata": {
  "kernelspec": {
   "display_name": "Python 3 (ipykernel)",
   "language": "python",
   "name": "python3"
  },
  "language_info": {
   "codemirror_mode": {
    "name": "ipython",
    "version": 3
   },
   "file_extension": ".py",
   "mimetype": "text/x-python",
   "name": "python",
   "nbconvert_exporter": "python",
   "pygments_lexer": "ipython3",
   "version": "3.11.5"
  }
 },
 "nbformat": 4,
 "nbformat_minor": 5
}
